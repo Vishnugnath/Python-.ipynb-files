{
  "cells": [
    {
      "cell_type": "markdown",
      "metadata": {},
      "source": [
        "### Question 1: What is a generator in Python?\n",
        "\n",
        "**Answer:**\n",
        "A generator in Python is a special type of iterator that generates values on the fly and is defined using a function with the `yield` statement instead of `return`. Generators are used to handle large datasets or streams of data efficiently, as they generate items one at a time and do not store them in memory."
      ]
    },
    {
      "cell_type": "code",
      "execution_count": 1,
      "metadata": {},
      "outputs": [],
      "source": [
        "# Example of a simple generator\n",
        "def simple_generator():\n",
        "    yield 1\n",
        "    yield 2\n",
        "    yield 3\n",
        "\n",
        "gen = simple_generator()\n",
        "for value in gen:\n",
        "    print(value)\n",
        "# Output: 1\n",
        "#         2\n",
        "#         3\n"
      ]
    },
    {
      "cell_type": "markdown",
      "metadata": {},
      "source": [
        "### Question 2: How do generators differ from regular functions?\n",
        "\n",
        "**Answer:**\n",
        "Generators differ from regular functions in the following ways:\n",
        "- **Yield vs. Return**: Generators use the `yield` statement to return values one at a time and maintain their state between yields. Regular functions use the `return` statement to return a single value and terminate.\n",
        "- **State Preservation**: Generators maintain their state between yields, allowing them to resume where they left off. Regular functions do not retain state between calls.\n",
        "- **Memory Efficiency**: Generators are more memory-efficient than regular functions that return large lists, as they generate items one at a time and do not store them in memory."
      ]
    },
    {
      "cell_type": "code",
      "execution_count": 2,
      "metadata": {},
      "outputs": [],
      "source": [
        "# Example of a generator that maintains state\n",
        "def count_up_to(max):\n",
        "    count = 1\n",
        "    while count <= max:\n",
        "        yield count\n",
        "        count += 1\n",
        "\n",
        "counter = count_up_to(5)\n",
        "print(next(counter))  # Output: 1\n",
        "print(next(counter))  # Output: 2\n",
        "print(next(counter))  # Output: 3\n",
        "print(next(counter))  # Output: 4\n",
        "print(next(counter))  # Output: 5\n",
        "# print(next(counter))  # Raises StopIteration\n"
      ]
    },
    {
      "cell_type": "markdown",
      "metadata": {},
      "source": [
        "### Question 3: What are some common use cases for generators?\n",
        "\n",
        "**Answer:**\n",
        "Common use cases for generators include:\n",
        "- **Processing Large Data Streams**: Generators are ideal for processing large datasets or streams of data one item at a time, without loading the entire dataset into memory.\n",
        "- **Generating Infinite Sequences**: Generators can produce an infinite sequence of values, such as an infinite series or stream of numbers, because they generate values on demand.\n",
        "- **Lazy Evaluation**: Generators allow for lazy evaluation, where values are computed only when needed, rather than all at once."
      ]
    },
    {
      "cell_type": "code",
      "execution_count": 3,
      "metadata": {},
      "outputs": [],
      "source": [
        "# Example of a generator for processing a large range\n",
        "def large_range(n):\n",
        "    for i in range(n):\n",
        "        yield i\n",
        "\n",
        "for number in large_range(1000000):\n",
        "    if number > 10:\n",
        "        break\n",
        "    print(number)\n",
        "# Efficiently processes numbers up to a certain point without using large amounts of memory\n"
      ]
    },
    {
      "cell_type": "markdown",
      "metadata": {},
      "source": [
        "### Question 4: How do you handle exceptions in generators?\n",
        "\n",
        "**Answer:**\n",
        "You can handle exceptions in generators using a `try...except` block inside the generator function. You can also raise exceptions from within the generator using the `raise` statement. When an exception is raised, it can be caught and handled by the code using the generator."
      ]
    },
    {
      "cell_type": "code",
      "execution_count": 4,
      "metadata": {},
      "outputs": [],
      "source": [
        "# Example of handling exceptions in a generator\n",
        "def safe_divide(numerator, denominator):\n",
        "    try:\n",
        "        yield numerator / denominator\n",
        "    except ZeroDivisionError:\n",
        "        yield 'Error: Division by zero'\n",
        "\n",
        "gen = safe_divide(10, 0)\n",
        "print(next(gen))  # Output: Error: Division by zero\n",
        "\n",
        "gen = safe_divide(10, 2)\n",
        "print(next(gen))  # Output: 5.0\n"
      ]
    },
    {
      "cell_type": "markdown",
      "metadata": {},
      "source": [
        "### Question 5: How can you use generator expressions?\n",
        "\n",
        "**Answer:**\n",
        "Generator expressions provide a concise way to create generators. They are similar to list comprehensions but use parentheses instead of square brackets. Generator expressions are memory-efficient and can be used in places where iterators are required."
      ]
    },
    {
      "cell_type": "code",
      "execution_count": 5,
      "metadata": {},
      "outputs": [],
      "source": [
        "# Example of a generator expression\n",
        "squares = (x * x for x in range(10))\n",
        "for square in squares:\n",
        "    print(square)\n",
        "# Output: 0, 1, 4, 9, 16, 25, 36, 49, 64, 81\n"
      ]
    }
  ],
  "metadata": {
    "kernelspec": {
      "display_name": "Python 3 (ipykernel)",
      "language": "python",
      "name": "python3"
    },
    "language_info": {
      "codemirror_mode": {
        "name": "ipython",
        "version": 3
      },
      "file_extension": ".py",
      "mimetype": "text/x-python",
      "name": "python",
      "nbconvert_exporter": "python",
      "pygments_lexer": "ipython3",
      "version": "3.11.7"
    }
  },
  "nbformat": 4,
  "nbformat_minor": 5
}
