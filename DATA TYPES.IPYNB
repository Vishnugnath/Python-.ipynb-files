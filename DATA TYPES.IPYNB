{
  "cells": [
    {
      "cell_type": "markdown",
      "metadata": {},
      "source": [
        "Question 1: What are the basic data types in Python?\n",
        "\n",
        "Answer:\n",
        "Python has several basic data types including integers, floats, strings, booleans, and complex numbers."
      ]
    },
    {
      "cell_type": "code",
      "execution_count": 1,
      "metadata": {},
      "outputs": [
        {
          "name": "stdout",
          "output_type": "stream",
          "text": [
            "Integer: 10\n",
            "Float: 10.5\n",
            "String: Hello, world!\n",
            "Boolean: True\n",
            "Complex: (2+3j)\n"
          ]
        }
      ],
      "source": [
        "# Examples of basic data types\n",
        "integer_example = 10\n",
        "float_example = 10.5\n",
        "string_example = \"Hello, world!\"\n",
        "boolean_example = True\n",
        "complex_example = 2 + 3j\n",
        "\n",
        "print(f\"Integer: {integer_example}\")\n",
        "print(f\"Float: {float_example}\")\n",
        "print(f\"String: {string_example}\")\n",
        "print(f\"Boolean: {boolean_example}\")\n",
        "print(f\"Complex: {complex_example}\")"
      ]
    },
    {
      "cell_type": "markdown",
      "metadata": {},
      "source": [
        "Question 2: What are collection data types in Python?\n",
        "\n",
        "Answer:\n",
        "Python provides several collection data types, including lists, tuples, sets, and dictionaries."
      ]
    },
    {
      "cell_type": "code",
      "execution_count": 2,
      "metadata": {},
      "outputs": [
        {
          "name": "stdout",
          "output_type": "stream",
          "text": [
            "List: [1, 2, 3, 4, 5]\n",
            "Tuple: (1, 2, 3, 4, 5)\n",
            "Set: {1, 2, 3, 4, 5}\n",
            "Dictionary: {'one': 1, 'two': 2, 'three': 3}\n"
          ]
        }
      ],
      "source": [
        "# Examples of collection data types\n",
        "list_example = [1, 2, 3, 4, 5]\n",
        "tuple_example = (1, 2, 3, 4, 5)\n",
        "set_example = {1, 2, 3, 4, 5}\n",
        "dict_example = {\"one\": 1, \"two\": 2, \"three\": 3}\n",
        "\n",
        "print(f\"List: {list_example}\")\n",
        "print(f\"Tuple: {tuple_example}\")\n",
        "print(f\"Set: {set_example}\")\n",
        "print(f\"Dictionary: {dict_example}\")"
      ]
    },
    {
      "cell_type": "markdown",
      "metadata": {},
      "source": [
        "Question 3: How do you convert between different data types in Python?\n",
        "\n",
        "Answer:\n",
        "You can convert between different data types using functions like `int()`, `float()`, `str()`, `list()`, `tuple()`, `set()`, and `dict()`."
      ]
    },
    {
      "cell_type": "code",
      "execution_count": 3,
      "metadata": {},
      "outputs": [
        {
          "name": "stdout",
          "output_type": "stream",
          "text": [
            "Int to Float: 10.0\n",
            "Float to Int: 10\n",
            "String to Int: 10\n",
            "List to Tuple: (1, 2, 3)\n",
            "Tuple to List: [1, 2, 3]\n",
            "List to Set: {1, 2, 3}\n",
            "Dict to List of Keys: ['one', 'two', 'three']\n",
            "Dict to List of Values: [1, 2, 3]\n"
          ]
        }
      ],
      "source": [
        "# Examples of type conversion\n",
        "int_to_float = float(10)\n",
        "float_to_int = int(10.5)\n",
        "str_to_int = int(\"10\")\n",
        "list_to_tuple = tuple([1, 2, 3])\n",
        "tuple_to_list = list((1, 2, 3))\n",
        "list_to_set = set([1, 2, 3])\n",
        "dict_to_list_keys = list({\"one\": 1, \"two\": 2, \"three\": 3}.keys())\n",
        "dict_to_list_values = list({\"one\": 1, \"two\": 2, \"three\": 3}.values())\n",
        "\n",
        "print(f\"Int to Float: {int_to_float}\")\n",
        "print(f\"Float to Int: {float_to_int}\")\n",
        "print(f\"String to Int: {str_to_int}\")\n",
        "print(f\"List to Tuple: {list_to_tuple}\")\n",
        "print(f\"Tuple to List: {tuple_to_list}\")\n",
        "print(f\"List to Set: {list_to_set}\")\n",
        "print(f\"Dict to List of Keys: {dict_to_list_keys}\")\n",
        "print(f\"Dict to List of Values: {dict_to_list_values}\")"
      ]
    },
    {
      "cell_type": "markdown",
      "metadata": {},
      "source": [
        "Question 4: What are mutable and immutable data types?\n",
        "\n",
        "Answer:\n",
        "Mutable data types are those that can be changed after they are created, such as lists, dictionaries, and sets. Immutable data types cannot be changed after they are created, such as integers, floats, strings, and tuples."
      ]
    },
    {
      "cell_type": "code",
      "execution_count": 4,
      "metadata": {},
      "outputs": [
        {
          "name": "stdout",
          "output_type": "stream",
          "text": [
            "Original List: [1, 2, 3]\n",
            "Modified List: [1, 2, 3, 4]\n",
            "Original Tuple: (1, 2, 3)\n"
          ]
        }
      ],
      "source": [
        "# Example of mutable data type\n",
        "mutable_list = [1, 2, 3]\n",
        "print(f\"Original List: {mutable_list}\")\n",
        "mutable_list.append(4)\n",
        "print(f\"Modified List: {mutable_list}\")\n",
        "\n",
        "# Example of immutable data type\n",
        "immutable_tuple = (1, 2, 3)\n",
        "print(f\"Original Tuple: {immutable_tuple}\")\n",
        "# immutable_tuple[0] = 4  # This would raise an error"
      ]
    },
    {
      "cell_type": "markdown",
      "metadata": {},
      "source": [
        "Question 5: What is the None data type in Python?\n",
        "\n",
        "Answer:\n",
        "The `None` data type represents the absence of a value. It is often used to signify that a variable has no value assigned to it or to initialize variables that will be assigned values later."
      ]
    },
    {
      "cell_type": "code",
      "execution_count": 5,
      "metadata": {},
      "outputs": [
        {
          "name": "stdout",
          "output_type": "stream",
          "text": [
            "Value of none_example: None\n"
          ]
        }
      ],
      "source": [
        "# Example of None data type\n",
        "none_example = None\n",
        "print(f\"Value of none_example: {none_example}\")"
      ]
    }
  ],
  "metadata": {
    "kernelspec": {
      "display_name": "Python 3 (ipykernel)",
      "language": "python",
      "name": "python3"
    },
    "language_info": {
      "codemirror_mode": {
        "name": "ipython",
        "version": 3
      },
      "file_extension": ".py",
      "mimetype": "text/x-python",
      "name": "python",
      "nbconvert_exporter": "python",
      "pygments_lexer": "ipython3",
      "version": "3.11.7"
    }
  },
  "nbformat": 4,
  "nbformat_minor": 5
}
