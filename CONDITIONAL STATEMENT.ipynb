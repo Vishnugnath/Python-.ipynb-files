{
  "cells": [
    {
      "cell_type": "markdown",
      "metadata": {},
      "source": [
        "Question 1: What is a conditional statement in Python?\n",
        "\n",
        "Answer:\n",
        "A conditional statement in Python allows you to execute certain pieces of code based on whether a condition is true or false.\n",
        "The most common conditional statements are if, elif, and else."
      ]
    },
    {
      "cell_type": "code",
      "execution_count": 1,
      "metadata": {},
      "outputs": [],
      "source": [
        "# Example of a simple if statement\n",
        "x = 10\n",
        "if x > 5:\n",
        "    print('x is greater than 5')"
      ]
    },
    {
      "cell_type": "markdown",
      "metadata": {},
      "source": [
        "Question 2: How do you use the if-else statement?\n",
        "\n",
        "Answer:\n",
        "The if-else statement allows you to execute one block of code if a condition is true and another block of code if the condition is false."
      ]
    },
    {
      "cell_type": "code",
      "execution_count": 2,
      "metadata": {},
      "outputs": [
        {
          "name": "stdout",
          "output_type": "stream",
          "text": [
            "x is greater than 5\n"
          ]
        }
      ],
      "source": [
        "# Example of an if-else statement\n",
        "x = 10\n",
        "if x > 5:\n",
        "    print('x is greater than 5')\n",
        "else:\n",
        "    print('x is not greater than 5')"
      ]
    },
    {
      "cell_type": "markdown",
      "metadata": {},
      "source": [
        "Question 3: How do you use the if-elif-else statement?\n",
        "\n",
        "Answer:\n",
        "The if-elif-else statement allows you to check multiple conditions. \n",
        "The first condition that is true will execute, and the remaining conditions will be skipped."
      ]
    },
    {
      "cell_type": "code",
      "execution_count": 3,
      "metadata": {},
      "outputs": [
        {
          "name": "stdout",
          "output_type": "stream",
          "text": [
            "x is between 5 and 15\n"
          ]
        }
      ],
      "source": [
        "# Example of an if-elif-else statement\n",
        "x = 10\n",
        "if x < 5:\n",
        "    print('x is less than 5')\n",
        "elif x < 15:\n",
        "    print('x is between 5 and 15')\n",
        "else:\n",
        "    print('x is greater than or equal to 15')"
      ]
    },
    {
      "cell_type": "markdown",
      "metadata": {},
      "source": [
        "Question 4: How do you use nested if statements?\n",
        "\n",
        "Answer:\n",
        "You can use nested if statements to check conditions within other conditions. \n",
        "This means you can place an if statement inside another if statement to create more complex conditions."
      ]
    },
    {
      "cell_type": "code",
      "execution_count": 4,
      "metadata": {},
      "outputs": [
        {
          "name": "stdout",
          "output_type": "stream",
          "text": [
            "x is positive and greater than 5\n"
          ]
        }
      ],
      "source": [
        "# Example of nested if statements\n",
        "x = 10\n",
        "if x > 0:\n",
        "    if x > 5:\n",
        "        print('x is positive and greater than 5')\n",
        "    else:\n",
        "        print('x is positive and less than or equal to 5')\n",
        "else:\n",
        "    print('x is not positive')"
      ]
    },
    {
      "cell_type": "markdown",
      "metadata": {},
      "source": [
        "Question 5: How do you use conditional expressions (ternary operators) in Python?\n",
        "\n",
        "Answer:\n",
        "A conditional expression (also known as a ternary operator) allows you to write a compact if-else statement in a single line. \n",
        "The syntax is: `value_if_true if condition else value_if_false`."
      ]
    },
    {
      "cell_type": "code",
      "execution_count": 5,
      "metadata": {},
      "outputs": [
        {
          "name": "stdout",
          "output_type": "stream",
          "text": [
            "Greater\n"
          ]
        }
      ],
      "source": [
        "# Example of a conditional expression (ternary operator)\n",
        "x = 10\n",
        "result = 'Greater' if x > 5 else 'Lesser or equal'\n",
        "print(result)  # Output: Greater"
      ]
    }
  ],
  "metadata": {
    "kernelspec": {
      "display_name": "Python 3 (ipykernel)",
      "language": "python",
      "name": "python3"
    },
    "language_info": {
      "codemirror_mode": {
        "name": "ipython",
        "version": 3
      },
      "file_extension": ".py",
      "mimetype": "text/x-python",
      "name": "python",
      "nbconvert_exporter": "python",
      "pygments_lexer": "ipython3",
      "version": "3.11.7"
    }
  },
  "nbformat": 4,
  "nbformat_minor": 5
}
