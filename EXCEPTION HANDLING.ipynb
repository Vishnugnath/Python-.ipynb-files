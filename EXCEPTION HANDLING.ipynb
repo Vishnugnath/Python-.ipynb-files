{
  "cells": [
    {
      "cell_type": "markdown",
      "metadata": {},
      "source": [
        "### Question 1: What is Exception Handling in Python?\n",
        "\n",
        "**Answer:**\n",
        "Exception Handling is a mechanism in Python that allows a program to deal with runtime errors gracefully. Instead of crashing the program, Python provides a way to catch and handle errors that occur during the execution of the program. This is done using `try`, `except`, `else`, and `finally` blocks. The `try` block contains code that may raise an exception, the `except` block contains code to handle the exception, `else` runs if no exception occurs, and `finally` runs code that needs to execute regardless of whether an exception occurred."
      ]
    },
    {
      "cell_type": "code",
      "execution_count": 1,
      "metadata": {},
      "outputs": [],
      "source": [
        "# Basic Example of Exception Handling\n",
        "try:\n",
        "    result = 10 / 0  # This will raise a ZeroDivisionError\n",
        "except ZeroDivisionError:\n",
        "    print('You cannot divide by zero!')\n",
        "finally:\n",
        "    print('This block always executes.')\n"
      ]
    },
    {
      "cell_type": "markdown",
      "metadata": {},
      "source": [
        "### Question 2: How does the `try` and `except` block work?\n",
        "\n",
        "**Answer:**\n",
        "The `try` block contains code that might cause an exception. If an exception occurs, Python stops executing the code in the `try` block and jumps to the `except` block. The `except` block contains code that handles the exception. If no exception occurs, the `except` block is skipped."
      ]
    },
    {
      "cell_type": "code",
      "execution_count": 2,
      "metadata": {},
      "outputs": [],
      "source": [
        "# Example of `try` and `except` block\n",
        "try:\n",
        "    number = int(input('Enter a number: '))\n",
        "    print(10 / number)\n",
        "except ValueError:\n",
        "    print('Invalid input! Please enter a number.')\n",
        "except ZeroDivisionError:\n",
        "    print('Division by zero is not allowed!')\n"
      ]
    },
    {
      "cell_type": "markdown",
      "metadata": {},
      "source": [
        "### Question 3: What is the purpose of the `else` block in exception handling?\n",
        "\n",
        "**Answer:**\n",
        "The `else` block, if present, is executed if the code in the `try` block did not raise an exception. It is used to specify code that should run only if the `try` block succeeds (i.e., no exceptions are raised). The `else` block is optional."
      ]
    },
    {
      "cell_type": "code",
      "execution_count": 3,
      "metadata": {},
      "outputs": [],
      "source": [
        "# Example of `else` block\n",
        "try:\n",
        "    result = 10 / 2\n",
        "except ZeroDivisionError:\n",
        "    print('Cannot divide by zero.')\n",
        "else:\n",
        "    print('Division successful! Result:', result)\n"
      ]
    },
    {
      "cell_type": "markdown",
      "metadata": {},
      "source": [
        "### Question 4: What is the role of the `finally` block?\n",
        "\n",
        "**Answer:**\n",
        "The `finally` block, if present, will execute regardless of whether an exception occurred or not. It is typically used for cleanup actions that need to be executed under all circumstances, such as closing files or releasing resources."
      ]
    },
    {
      "cell_type": "code",
      "execution_count": 4,
      "metadata": {},
      "outputs": [],
      "source": [
        "# Example of `finally` block\n",
        "try:\n",
        "    file = open('example.txt', 'r')\n",
        "    data = file.read()\n",
        "except FileNotFoundError:\n",
        "    print('File not found!')\n",
        "finally:\n",
        "    file.close()\n",
        "    print('File closed.')\n"
      ]
    },
    {
      "cell_type": "markdown",
      "metadata": {},
      "source": [
        "### Question 5: How can you handle multiple exceptions in one `except` block?\n",
        "\n",
        "**Answer:**\n",
        "You can handle multiple exceptions in one `except` block by specifying a tuple of exceptions. This allows you to handle multiple exception types with the same code block."
      ]
    },
    {
      "cell_type": "code",
      "execution_count": 5,
      "metadata": {},
      "outputs": [],
      "source": [
        "# Example of handling multiple exceptions\n",
        "try:\n",
        "    value = int(input('Enter a number: '))\n",
        "    result = 10 / value\n",
        "except (ValueError, ZeroDivisionError) as e:\n",
        "    print('An error occurred:', e)\n"
      ]
    },
    {
      "cell_type": "markdown",
      "metadata": {},
      "source": [
        "### Question 6: How do you raise exceptions manually in Python?\n",
        "\n",
        "**Answer:**\n",
        "You can raise exceptions manually using the `raise` statement. You can raise a specific exception type with an optional message, which can be caught and handled by an `except` block."
      ]
    },
    {
      "cell_type": "code",
      "execution_count": 6,
      "metadata": {},
      "outputs": [],
      "source": [
        "# Example of raising an exception manually\n",
        "def divide(a, b):\n",
        "    if b == 0:\n",
        "        raise ValueError('Cannot divide by zero.')\n",
        "    return a / b\n",
        "\n",
        "try:\n",
        "    result = divide(10, 0)\n",
        "except ValueError as e:\n",
        "    print('Caught an exception:', e)\n"
      ]
    }
  ],
  "metadata": {
    "kernelspec": {
      "display_name": "Python 3 (ipykernel)",
      "language": "python",
      "name": "python3"
    },
    "language_info": {
      "codemirror_mode": {
        "name": "ipython",
        "version": 3
      },
      "file_extension": ".py",
      "mimetype": "text/x-python",
      "name": "python",
      "nbconvert_exporter": "python",
      "pygments_lexer": "ipython3",
      "version": "3.11.7"
    }
  },
  "nbformat": 4,
  "nbformat_minor": 5
}
