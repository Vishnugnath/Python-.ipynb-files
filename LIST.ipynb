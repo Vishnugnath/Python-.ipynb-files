{
 "cells": [
  {
   "cell_type": "markdown",
   "id": "b9ac9ce1-7bb7-4d78-9988-3e18dbce4ed1",
   "metadata": {},
   "source": [
    "LIST"
   ]
  },
  {
   "cell_type": "code",
   "execution_count": null,
   "id": "a9174876-274f-41b9-9a3f-a5d9199368f6",
   "metadata": {},
   "outputs": [],
   "source": [
    "Question 1: What is a list in Python and how do you create one?\n",
    "\n",
    "Answer:\n",
    "A list is an ordered, mutable collection of elements.\n",
    "Lists can contain elements of different data types and are defined by enclosing the elements in square brackets []."
   ]
  },
  {
   "cell_type": "code",
   "execution_count": 17,
   "id": "3af81c63-d1df-4f67-8ddf-6a96c03c263d",
   "metadata": {},
   "outputs": [
    {
     "name": "stdout",
     "output_type": "stream",
     "text": [
      "[1, 2, 3, 'a', 'b', 'c']\n",
      "[]\n",
      "[1, 'hello', 3.14, True]\n"
     ]
    }
   ],
   "source": [
    "# Creating a list\n",
    "my_list = [1, 2, 3, \"a\", \"b\", \"c\"]\n",
    "print(my_list)  # Output: [1, 2, 3, 'a', 'b', 'c']\n",
    "\n",
    "# Creating an empty list\n",
    "empty_list = []\n",
    "print(empty_list)  # Output: []\n",
    "\n",
    "# Creating a list with different data types\n",
    "mixed_list = [1, \"hello\", 3.14, True]\n",
    "print(mixed_list)  # Output: [1, 'hello', 3.14, True]\n"
   ]
  },
  {
   "cell_type": "code",
   "execution_count": null,
   "id": "6128ecae-12c7-4473-b748-36a3db296f45",
   "metadata": {},
   "outputs": [],
   "source": []
  },
  {
   "cell_type": "markdown",
   "id": "28160370-2c58-420c-9296-0e37cf02e878",
   "metadata": {},
   "source": [
    "Question 2: How do you access and modify elements in a list?\n",
    "\n",
    "Answer:\n",
    "You can access elements in a list using indexing (starting from 0). \n",
    "You can modify elements by assigning new values to specific indices."
   ]
  },
  {
   "cell_type": "code",
   "execution_count": 21,
   "id": "0e7c4e78-4d88-4b65-b330-2f7d5959d39b",
   "metadata": {},
   "outputs": [
    {
     "name": "stdout",
     "output_type": "stream",
     "text": [
      "10\n",
      "30\n",
      "[10, 20, 35, 40, 50]\n"
     ]
    }
   ],
   "source": [
    "my_list = [10, 20, 30, 40, 50]\n",
    "\n",
    "# Accessing elements\n",
    "print(my_list[0])  # Output: 10\n",
    "print(my_list[2])  # Output: 30\n",
    "\n",
    "# Modifying elements\n",
    "my_list[2] = 35\n",
    "print(my_list)  # Output: [10, 20, 35, 40, 50]\n"
   ]
  },
  {
   "cell_type": "code",
   "execution_count": null,
   "id": "03df7e8f-d1e4-4a8d-a64c-85abaf9fb6ab",
   "metadata": {},
   "outputs": [],
   "source": []
  },
  {
   "cell_type": "markdown",
   "id": "01fda3dc-66de-46e4-946d-d52d1270d7c6",
   "metadata": {},
   "source": [
    "Question 3: How do you add and remove elements from a list?\n",
    "\n",
    "Answer:\n",
    "You can add elements to a list using the append(), insert(), and extend() methods. \n",
    "You can remove elements using the remove(), pop(), and clear() methods."
   ]
  },
  {
   "cell_type": "code",
   "execution_count": 23,
   "id": "0b73cf86-e090-4a56-8dce-44f921d17081",
   "metadata": {},
   "outputs": [
    {
     "name": "stdout",
     "output_type": "stream",
     "text": [
      "[1, 2, 3, 4]\n",
      "[1, 1.5, 2, 3, 4]\n",
      "[1, 1.5, 2, 3, 4, 5, 6]\n",
      "[1, 2, 3, 4, 5, 6]\n",
      "[1, 2, 3, 5, 6]\n",
      "[]\n"
     ]
    }
   ],
   "source": [
    "my_list = [1, 2, 3]\n",
    "\n",
    "# Adding elements\n",
    "my_list.append(4)\n",
    "print(my_list)  # Output: [1, 2, 3, 4]\n",
    "\n",
    "my_list.insert(1, 1.5)\n",
    "print(my_list)  # Output: [1, 1.5, 2, 3, 4]\n",
    "\n",
    "my_list.extend([5, 6])\n",
    "print(my_list)  # Output: [1, 1.5, 2, 3, 4, 5, 6]\n",
    "\n",
    "# Removing elements\n",
    "my_list.remove(1.5)\n",
    "print(my_list)  # Output: [1, 2, 3, 4, 5, 6]\n",
    "\n",
    "my_list.pop(3)\n",
    "print(my_list)  # Output: [1, 2, 3, 5, 6]\n",
    "\n",
    "my_list.clear()\n",
    "print(my_list)  # Output: []\n"
   ]
  },
  {
   "cell_type": "code",
   "execution_count": null,
   "id": "01b27466-0da0-47cc-800d-5f4e551736e2",
   "metadata": {},
   "outputs": [],
   "source": []
  },
  {
   "cell_type": "markdown",
   "id": "45d192f3-952c-4a5f-9365-a26108529b34",
   "metadata": {},
   "source": [
    "Question 4: How do you slice a list?\n",
    "\n",
    "Answer:\n",
    "You can slice a list to access a subset of its elements using the slice notation start:stop:step.\n",
    "\n"
   ]
  },
  {
   "cell_type": "code",
   "execution_count": 25,
   "id": "230919f9-ab1a-42bd-9f04-fa06ed962dc6",
   "metadata": {},
   "outputs": [
    {
     "name": "stdout",
     "output_type": "stream",
     "text": [
      "[2, 3, 4]\n",
      "[0, 1, 2]\n",
      "[5, 6, 7, 8, 9]\n",
      "[0, 2, 4, 6, 8]\n",
      "[9, 8, 7, 6, 5, 4, 3, 2, 1, 0]\n"
     ]
    }
   ],
   "source": [
    "my_list = [0, 1, 2, 3, 4, 5, 6, 7, 8, 9]\n",
    "\n",
    "# Slicing a list\n",
    "print(my_list[2:5])  # Output: [2, 3, 4]\n",
    "print(my_list[:3])   # Output: [0, 1, 2]\n",
    "print(my_list[5:])   # Output: [5, 6, 7, 8, 9]\n",
    "print(my_list[::2])  # Output: [0, 2, 4, 6, 8]\n",
    "print(my_list[::-1]) # Output: [9, 8, 7, 6, 5, 4, 3, 2, 1, 0]\n"
   ]
  },
  {
   "cell_type": "code",
   "execution_count": null,
   "id": "8f9100e8-2891-44cf-88a4-7731c1bf1e91",
   "metadata": {},
   "outputs": [],
   "source": []
  },
  {
   "cell_type": "markdown",
   "id": "88fb76d5-4fb7-4c6f-8a44-355612494616",
   "metadata": {},
   "source": [
    "Question 5: How do you sort and reverse a list?\n",
    "\n",
    "Answer:\n",
    "You can sort a list using the sort() method and reverse a list using the reverse() method.\n",
    "\n"
   ]
  },
  {
   "cell_type": "code",
   "execution_count": 27,
   "id": "fd26a77f-c5da-46f4-9bfb-c7d8f4a5d745",
   "metadata": {},
   "outputs": [
    {
     "name": "stdout",
     "output_type": "stream",
     "text": [
      "[1, 1, 2, 3, 3, 4, 5, 5, 5, 6, 9]\n",
      "[9, 6, 5, 5, 5, 4, 3, 3, 2, 1, 1]\n"
     ]
    }
   ],
   "source": [
    "my_list = [3, 1, 4, 1, 5, 9, 2, 6, 5, 3, 5]\n",
    "\n",
    "# Sorting a list\n",
    "my_list.sort()\n",
    "print(my_list)  # Output: [1, 1, 2, 3, 3, 4, 5, 5, 5, 6, 9]\n",
    "\n",
    "# Reversing a list\n",
    "my_list.reverse()\n",
    "print(my_list)  # Output: [9, 6, 5, 5, 5, 4, 3, 3, 2, 1, 1]\n"
   ]
  },
  {
   "cell_type": "markdown",
   "id": "4a3d761b-1f61-4067-9c46-75fa0b366cc6",
   "metadata": {},
   "source": [
    "also use the sorted() function to return a new sorted list without modifying the original list."
   ]
  },
  {
   "cell_type": "code",
   "execution_count": 29,
   "id": "da5f0d53-c977-4413-bc81-21cbc98a80f7",
   "metadata": {},
   "outputs": [
    {
     "name": "stdout",
     "output_type": "stream",
     "text": [
      "[1, 1, 2, 3, 3, 4, 5, 5, 5, 6, 9]\n",
      "[3, 1, 4, 1, 5, 9, 2, 6, 5, 3, 5]\n"
     ]
    }
   ],
   "source": [
    "#Example:\n",
    "\n",
    "my_list = [3, 1, 4, 1, 5, 9, 2, 6, 5, 3, 5]\n",
    "sorted_list = sorted(my_list)\n",
    "print(sorted_list)  # Output: [1, 1, 2, 3, 3, 4, 5, 5, 5, 6, 9]\n",
    "print(my_list)      # Output: [3, 1, 4, 1, 5, 9, 2, 6, 5, 3, 5]"
   ]
  }
 ],
 "metadata": {
  "kernelspec": {
   "display_name": "Python 3 (ipykernel)",
   "language": "python",
   "name": "python3"
  },
  "language_info": {
   "codemirror_mode": {
    "name": "ipython",
    "version": 3
   },
   "file_extension": ".py",
   "mimetype": "text/x-python",
   "name": "python",
   "nbconvert_exporter": "python",
   "pygments_lexer": "ipython3",
   "version": "3.11.7"
  }
 },
 "nbformat": 4,
 "nbformat_minor": 5
}
