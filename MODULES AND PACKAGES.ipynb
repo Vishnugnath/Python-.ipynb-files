{
  "cells": [
    {
      "cell_type": "markdown",
      "metadata": {},
      "source": [
        "### Question 1: What is a module in Python?\n",
        "\n",
        "**Answer:**\n",
        "A module in Python is a file containing Python code. It can define functions, classes, and variables, as well as include runnable code. Modules help organize and reuse code across different programs. You can create your own modules or use standard library modules."
      ]
    },
    {
      "cell_type": "code",
      "execution_count": 1,
      "metadata": {},
      "outputs": [],
      "source": [
        "# Example of a simple module\n",
        "# Save this code in a file named `mymodule.py`\n",
        "def greet(name):\n",
        "    return f'Hello, {name}!'\n",
        "\n",
        "def add(a, b):\n",
        "    return a + b\n"
      ]
    },
    {
      "cell_type": "markdown",
      "metadata": {},
      "source": [
        "### Question 2: How do you import and use functions from a module?\n",
        "\n",
        "**Answer:**\n",
        "You can import functions from a module using the `import` statement. You can import the entire module or specific functions from it. Once imported, you can use the functions as needed."
      ]
    },
    {
      "cell_type": "code",
      "execution_count": 2,
      "metadata": {},
      "outputs": [],
      "source": [
        "# Importing the entire module\n",
        "import mymodule\n",
        "print(mymodule.greet('Alice'))  # Output: Hello, Alice!\n",
        "print(mymodule.add(3, 4))      # Output: 7\n",
        "\n",
        "# Importing specific functions\n",
        "from mymodule import greet\n",
        "print(greet('Bob'))  # Output: Hello, Bob!\n"
      ]
    },
    {
      "cell_type": "markdown",
      "metadata": {},
      "source": [
        "### Question 3: What is a package in Python?\n",
        "\n",
        "**Answer:**\n",
        "A package is a collection of modules organized in a directory hierarchy. Each directory in a package contains an `__init__.py` file (which can be empty) to indicate that the directory is a package. Packages allow you to structure your code more effectively by grouping related modules together."
      ]
    },
    {
      "cell_type": "code",
      "execution_count": 3,
      "metadata": {},
      "outputs": [],
      "source": [
        "# Example of a package structure:\n",
        "# mypackage/\n",
        "# ├── __init__.py\n",
        "# ├── module1.py\n",
        "# └── module2.py\n",
        "\n",
        "# Contents of module1.py\n",
        "def function1():\n",
        "    return 'Function 1'\n",
        "\n",
        "# Contents of module2.py\n",
        "def function2():\n",
        "    return 'Function 2'\n",
        "\n",
        "# Contents of __init__.py\n",
        "# You can leave this file empty or use it to initialize the package"
      ]
    },
    {
      "cell_type": "markdown",
      "metadata": {},
      "source": [
        "### Question 4: How do you import from a package?\n",
        "\n",
        "**Answer:**\n",
        "You can import modules or functions from a package using the `import` statement. The syntax is similar to importing from a module, but you need to specify the package name followed by the module name."
      ]
    },
    {
      "cell_type": "code",
      "execution_count": 4,
      "metadata": {},
      "outputs": [],
      "source": [
        "# Importing a module from a package\n",
        "import mypackage.module1\n",
        "print(mypackage.module1.function1())  # Output: Function 1\n",
        "\n",
        "# Importing a function directly from a module in a package\n",
        "from mypackage.module2 import function2\n",
        "print(function2())  # Output: Function 2\n"
      ]
    },
    {
      "cell_type": "markdown",
      "metadata": {},
      "source": [
        "### Question 5: How do you handle relative imports in packages?\n",
        "\n",
        "**Answer:**\n",
        "Relative imports use dot notation to import modules relative to the current module's location. Use a single dot `.` to import from the current package or two dots `..` to import from the parent package. Note that relative imports only work when running scripts from within the package context."
      ]
    },
    {
      "cell_type": "code",
      "execution_count": 5,
      "metadata": {},
      "outputs": [],
      "source": [
        "# Example of relative imports\n",
        "# Assuming this is in mypackage/module1.py\n",
        "from .module2 import function2\n",
        "\n",
        "# Calling function2() from module1.py\n",
        "def call_function2():\n",
        "    return function2()\n"
      ]
    },
    {
      "cell_type": "markdown",
      "metadata": {},
      "source": [
        "### Question 6: How do you install and use external packages?\n",
        "\n",
        "**Answer:**\n",
        "External packages can be installed using package managers like `pip`. After installation, you can import and use these packages in your Python scripts. For example, to install a package, use `pip install package_name`, and then import it using `import package_name`."
      ]
    },
    {
      "cell_type": "code",
      "execution_count": 6,
      "metadata": {},
      "outputs": [],
      "source": [
        "# Installing an external package\n",
        "# Open terminal and run:\n",
        "# pip install requests\n",
        "\n",
        "# Using the installed package\n",
        "import requests\n",
        "response = requests.get('https://www.example.com')\n",
        "print(response.status_code)  # Output: 200 (for a successful request)\n"
      ]
    }
  ],
  "metadata": {
    "kernelspec": {
      "display_name": "Python 3 (ipykernel)",
      "language": "python",
      "name": "python3"
    },
    "language_info": {
      "codemirror_mode": {
        "name": "ipython",
        "version": 3
      },
      "file_extension": ".py",
      "mimetype": "text/x-python",
      "name": "python",
      "nbconvert_exporter": "python",
      "pygments_lexer": "ipython3",
      "version": "3.11.7"
    }
  },
  "nbformat": 4,
  "nbformat_minor": 5
}
