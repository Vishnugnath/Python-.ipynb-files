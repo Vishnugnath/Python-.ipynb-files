{
  "cells": [
    {
      "cell_type": "markdown",
      "metadata": {},
      "source": [
        "Question 1: What are higher-order functions in Python?\n",
        "\n",
        "Answer:\n",
        "Higher-order functions are functions that can take other functions as arguments or return them as results. They allow for more abstract and flexible code by operating on other functions."
      ]
    },
    {
      "cell_type": "code",
      "execution_count": 1,
      "metadata": {},
      "outputs": [],
      "source": [
        "# Example: A higher-order function that takes another function as an argument\n",
        "def apply_function(func, value):\n",
        "    return func(value)\n",
        "\n",
        "# Defining a simple function to use with apply_function\n",
        "def square(x):\n",
        "    return x * x\n",
        "\n",
        "# Calling the higher-order function\n",
        "result = apply_function(square, 5)\n",
        "print(result)  # Output: 25"
      ]
    },
    {
      "cell_type": "markdown",
      "metadata": {},
      "source": [
        "Question 2: How do higher-order functions return other functions?\n",
        "\n",
        "Answer:\n",
        "Higher-order functions can return other functions, allowing you to create functions dynamically. This can be useful for creating decorators or factory functions."
      ]
    },
    {
      "cell_type": "code",
      "execution_count": 2,
      "metadata": {},
      "outputs": [],
      "source": [
        "# Example: A higher-order function that returns another function\n",
        "def create_multiplier(factor):\n",
        "    def multiplier(x):\n",
        "        return x * factor\n",
        "    return multiplier\n",
        "\n",
        "# Creating a function that multiplies by 3\n",
        "multiply_by_3 = create_multiplier(3)\n",
        "\n",
        "# Calling the returned function\n",
        "result = multiply_by_3(10)\n",
        "print(result)  # Output: 30"
      ]
    },
    {
      "cell_type": "markdown",
      "metadata": {},
      "source": [
        "Question 3: What are some common higher-order functions in Python's standard library?\n",
        "\n",
        "Answer:\n",
        "Python's standard library includes several built-in higher-order functions, such as `map()`, `filter()`, and `reduce()` from the `functools` module. These functions operate on other functions and sequences."
      ]
    },
    {
      "cell_type": "code",
      "execution_count": 3,
      "metadata": {},
      "outputs": [],
      "source": [
        "from functools import reduce\n",
        "\n",
        "# Using map() to apply a function to each element in a list\n",
        "numbers = [1, 2, 3, 4, 5]\n",
        "squared_numbers = list(map(lambda x: x * x, numbers))\n",
        "print(squared_numbers)  # Output: [1, 4, 9, 16, 25]\n",
        "\n",
        "# Using filter() to select elements from a list\n",
        "even_numbers = list(filter(lambda x: x % 2 == 0, numbers))\n",
        "print(even_numbers)  # Output: [2, 4]\n",
        "\n",
        "# Using reduce() to accumulate a result\n",
        "sum_of_numbers = reduce(lambda x, y: x + y, numbers)\n",
        "print(sum_of_numbers)  # Output: 15"
      ]
    },
    {
      "cell_type": "markdown",
      "metadata": {},
      "source": [
        "Question 4: How can you create decorators using higher-order functions?\n",
        "\n",
        "Answer:\n",
        "Decorators are a common use of higher-order functions. They allow you to modify or enhance the behavior of functions or methods without changing their code."
      ]
    },
    {
      "cell_type": "code",
      "execution_count": 4,
      "metadata": {},
      "outputs": [],
      "source": [
        "# Example: A simple decorator that prints a message before and after a function call\n",
        "def my_decorator(func):\n",
        "    def wrapper(*args, **kwargs):\n",
        "        print(\"Something is happening before the function is called.\")\n",
        "        result = func(*args, **kwargs)\n",
        "        print(\"Something is happening after the function is called.\")\n",
        "        return result\n",
        "    return wrapper\n",
        "\n",
        "@my_decorator\n",
        "def say_hello(name):\n",
        "    print(f\"Hello, {name}!\")\n",
        "\n",
        "# Calling the decorated function\n",
        "say_hello(\"Alice\")\n",
        "# Output:\n",
        "# Something is happening before the function is called.\n",
        "# Hello, Alice!\n",
        "# Something is happening after the function is called."
      ]
    },
    {
      "cell_type": "markdown",
      "metadata": {},
      "source": [
        "Question 5: What are closures and how are they related to higher-order functions?\n",
        "\n",
        "Answer:\n",
        "Closures are a feature in Python where a nested function captures the local variables from its enclosing scope. Closures are often used with higher-order functions to maintain state across function calls."
      ]
    },
    {
      "cell_type": "code",
      "execution_count": 5,
      "metadata": {},
      "outputs": [],
      "source": [
        "# Example: Using a closure to maintain state\n",
        "def outer_function(message):\n",
        "    def inner_function():\n",
        "        print(message)\n",
        "    return inner_function\n",
        "\n",
        "# Creating a closure\n",
        "closure = outer_function(\"Hello from the closure!\")\n",
        "\n",
        "# Calling the closure\n",
        "closure()  # Output: Hello from the closure!"
      ]
    }
  ],
  "metadata": {
    "kernelspec": {
      "display_name": "Python 3 (ipykernel)",
      "language": "python",
      "name": "python3"
    },
    "language_info": {
      "codemirror_mode": {
        "name": "ipython",
        "version": 3
      },
      "file_extension": ".py",
      "mimetype": "text/x-python",
      "name": "python",
      "nbconvert_exporter": "python",
      "pygments_lexer": "ipython3",
      "version": "3.11.7"
    }
  },
  "nbformat": 4,
  "nbformat_minor": 5
}
