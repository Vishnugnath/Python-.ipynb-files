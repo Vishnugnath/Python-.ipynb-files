{
  "cells": [
    {
      "cell_type": "markdown",
      "metadata": {},
      "source": [
        "Question 1: What is a string in Python and how do you create one?\n",
        "\n",
        "Answer:\n",
        "A string in Python is a sequence of characters enclosed in single quotes ('') or double quotes (\"\").\n",
        "You can create a string by assigning a sequence of characters to a variable."
      ]
    },
    {
      "cell_type": "code",
      "execution_count": 1,
      "metadata": {},
      "outputs": [
        {
          "name": "stdout",
          "output_type": "stream",
          "text": [
            "Hello, World!\n"
          ]
        }
      ],
      "source": [
        "# Creating strings\n",
        "string1 = 'Hello, World!'\n",
        "string2 = \"Python is awesome!\"\n",
        "\n",
        "# Printing strings\n",
        "print(string1)\n"
      ]
    },
    {
      "cell_type": "markdown",
      "metadata": {},
      "source": [
        "Question 2: How do you access characters in a string?\n",
        "\n",
        "Answer:\n",
        "You can access individual characters in a string using indexing (starting from 0) and slicing.\n",
        "Indexing allows you to access a single character, while slicing allows you to access a substring."
      ]
    },
    {
      "cell_type": "code",
      "execution_count": 2,
      "metadata": {},
      "outputs": [
        {
          "name": "stdout",
          "output_type": "stream",
          "text": [
            "P\n",
            "th\n"
          ]
        }
      ],
      "source": [
        "# Accessing characters in strings\n",
        "string = \"Python\"\n",
        "\n",
        "# Using indexing\n",
        "print(string[0])   # Output: P\n",
        "\n",
        "# Using slicing\n",
        "print(string[0:2]) # Output: Py"
      ]
    },
    {
      "cell_type": "markdown",
      "metadata": {},
      "source": [
        "Question 3: How do you concatenate strings in Python?\n",
        "\n",
        "Answer:\n",
        "You can concatenate (combine) strings using the + operator or by using the join() method on a separator string to join multiple strings together."
      ]
    },
    {
      "cell_type": "code",
      "execution_count": 3,
      "metadata": {},
      "outputs": [
        {
          "name": "stdout",
          "output_type": "stream",
          "text": [
            "Hello, World!\n",
            "Hello, Python!\n"
          ]
        }
      ],
      "source": [
        "# Concatenating strings\n",
        "string1 = 'Hello, '\n",
        "string2 = 'World!'\n",
        "\n",
        "# Using + operator\n",
        "print(string1 + string2)\n",
        "\n",
        "# Using join() method\n",
        "words = ['Hello,', 'Python!']\n",
        "print(' '.join(words))"
      ]
    },
    {
      "cell_type": "markdown",
      "metadata": {},
      "source": [
        "Question 4: How do you modify a string in Python?\n",
        "\n",
        "Answer:\n",
        "Strings in Python are immutable, meaning you cannot change the characters in-place.\n",
        "However, you can create new strings by slicing and concatenating parts of the original string."
      ]
    },
    {
      "cell_type": "code",
      "execution_count": 4,
      "metadata": {},
      "outputs": [
        {
          "name": "stdout",
          "output_type": "stream",
          "text": [
            "Python is awesome!\n",
            "Python is amazing!\n"
          ]
        }
      ],
      "source": [
        "# Modifying strings\n",
        "string = 'Python is cool!'\n",
        "\n",
        "# Creating a new string by slicing and concatenating\n",
        "new_string = string[:6] + 'awesome!'  # Output: Python is awesome!\n",
        "print(new_string)\n",
        "\n",
        "# Replacing part of a string\n",
        "new_string = string.replace('cool', 'amazing')  # Output: Python is amazing!\n",
        "print(new_string)"
      ]
    },
    {
      "cell_type": "markdown",
      "metadata": {},
      "source": [
        "Question 5: How do you format strings in Python?\n",
        "\n",
        "Answer:\n",
        "Python offers several ways to format strings, including using formatted string literals (f-strings),\n",
        "the format() method, and % formatting.\n",
        "These methods allow you to insert values into strings in a formatted way."
      ]
    },
    {
      "cell_type": "code",
      "execution_count": 5,
      "metadata": {},
      "outputs": [
        {
          "name": "stdout",
          "output_type": "stream",
          "text": [
            "Hello, John!\n",
            "The value is 3.14.\n"
          ]
        }
      ],
      "source": [
        "# Formatting strings\n",
        "name = 'John'\n",
        "value = 3.14\n",
        "\n",
        "# Using f-strings (formatted string literals)\n",
        "print(f'Hello, {name}!')\n",
        "print(f'The value is {value}.')\n",
        "\n",
        "# Using format() method\n",
        "print('Hello, {}!'.format(name))\n",
        "print('The value is {}.'.format(value))\n",
        "\n",
        "# Using % formatting (deprecated in Python 3.7 and later)\n",
        "print('Hello, %s!' % name)\n",
        "print('The value is %.2f.' % value)"
      ]
    }
  ],
  "metadata": {
    "kernelspec": {
      "display_name": "Python 3 (ipykernel)",
      "language": "python",
      "name": "python3"
    },
    "language_info": {
      "codemirror_mode": {
        "name": "ipython",
        "version": 3
      },
      "file_extension": ".py",
      "mimetype": "text/x-python",
      "name": "python",
      "nbconvert_exporter": "python",
      "pygments_lexer": "ipython3",
      "version": "3.11.7"
    }
  },
  "nbformat": 4,
  "nbformat_minor": 5
}
