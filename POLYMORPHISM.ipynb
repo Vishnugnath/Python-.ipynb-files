{
  "cells": [
    {
      "cell_type": "markdown",
      "metadata": {},
      "source": [
        "Question 1: What is polymorphism in Python?\n",
        "\n",
        "Answer:\n",
        "Polymorphism is a key concept in Object-Oriented Programming (OOP) that allows objects of different classes to be treated as objects of a common superclass. It enables a single function, method, or operator to operate differently based on the type of object or data it is applied to. This promotes flexibility and the ability to use a unified interface to interact with different types of objects."
      ]
    },
    {
      "cell_type": "code",
      "execution_count": 1,
      "metadata": {},
      "outputs": [],
      "source": [
        "# Example of polymorphism with methods\n",
        "class Bird:\n",
        "    def sound(self):\n",
        "        return 'Some generic bird sound'\n",
        "\n",
        "class Sparrow(Bird):\n",
        "    def sound(self):\n",
        "        return 'Chirp'\n",
        "\n",
        "class Parrot(Bird):\n",
        "    def sound(self):\n",
        "        return 'Squawk'\n",
        "\n",
        "# Function that uses polymorphism\n",
        "def make_sound(bird):\n",
        "    print(bird.sound())\n",
        "\n",
        "sparrow = Sparrow()\n",
        "parrot = Parrot()\n",
        "\n",
        "make_sound(sparrow)  # Output: Chirp\n",
        "make_sound(parrot)   # Output: Squawk"
      ]
    },
    {
      "cell_type": "markdown",
      "metadata": {},
      "source": [
        "Question 2: How does polymorphism work with operators?\n",
        "\n",
        "Answer:\n",
        "Polymorphism with operators allows different classes to define how operators like `+`, `-`, `*`, and `/` behave when applied to instances of those classes. By overriding special methods such as `__add__`, `__sub__`, `__mul__`, and `__truediv__`, you can define custom behavior for these operators based on the class."
      ]
    },
    {
      "cell_type": "code",
      "execution_count": 2,
      "metadata": {},
      "outputs": [],
      "source": [
        "# Example of polymorphism with operators\n",
        "class Vector:\n",
        "    def __init__(self, x, y):\n",
        "        self.x = x\n",
        "        self.y = y\n",
        "\n",
        "    def __add__(self, other):\n",
        "        return Vector(self.x + other.x, self.y + other.y)\n",
        "\n",
        "    def __str__(self):\n",
        "        return f'Vector({self.x}, {self.y})'\n",
        "\n",
        "v1 = Vector(2, 3)\n",
        "v2 = Vector(4, 5)\n",
        "v3 = v1 + v2\n",
        "\n",
        "print(v3)  # Output: Vector(6, 8)"
      ]
    },
    {
      "cell_type": "markdown",
      "metadata": {},
      "source": [
        "Question 3: What is the difference between compile-time and runtime polymorphism?\n",
        "\n",
        "Answer:\n",
        "Compile-time polymorphism (also known as static polymorphism) is achieved through method overloading, where multiple methods have the same name but different signatures. Python does not support method overloading as it uses dynamic typing. Runtime polymorphism (also known as dynamic polymorphism) is achieved through method overriding, where a method in a child class overrides a method in the parent class, and the method to be invoked is determined at runtime."
      ]
    },
    {
      "cell_type": "code",
      "execution_count": 3,
      "metadata": {},
      "outputs": [],
      "source": [
        "# Example illustrating runtime polymorphism\n",
        "class Animal:\n",
        "    def make_sound(self):\n",
        "        return 'Some generic animal sound'\n",
        "\n",
        "class Dog(Animal):\n",
        "    def make_sound(self):\n",
        "        return 'Bark'\n",
        "\n",
        "class Cat(Animal):\n",
        "    def make_sound(self):\n",
        "        return 'Meow'\n",
        "\n",
        "# Function that demonstrates runtime polymorphism\n",
        "def print_sound(animal):\n",
        "    print(animal.make_sound())\n",
        "\n",
        "dog = Dog()\n",
        "cat = Cat()\n",
        "\n",
        "print_sound(dog)  # Output: Bark\n",
        "print_sound(cat)  # Output: Meow"
      ]
    },
    {
      "cell_type": "markdown",
      "metadata": {},
      "source": [
        "Question 4: How does polymorphism help in implementing abstract classes and interfaces?\n",
        "\n",
        "Answer:\n",
        "Polymorphism is crucial in the implementation of abstract classes and interfaces. Abstract classes define a common interface for all derived classes but do not provide specific implementations. Derived classes provide concrete implementations of these abstract methods. Polymorphism allows these derived classes to be treated uniformly through their base class or interface, enabling a consistent and flexible design."
      ]
    },
    {
      "cell_type": "code",
      "execution_count": 4,
      "metadata": {},
      "outputs": [],
      "source": [
        "# Example of abstract class with polymorphism\n",
        "from abc import ABC, abstractmethod\n",
        "\n",
        "class Shape(ABC):\n",
        "    @abstractmethod\n",
        "    def area(self):\n",
        "        pass\n",
        "\n",
        "class Rectangle(Shape):\n",
        "    def __init__(self, width, height):\n",
        "        self.width = width\n",
        "        self.height = height\n",
        "\n",
        "    def area(self):\n",
        "        return self.width * self.height\n",
        "\n",
        "class Circle(Shape):\n",
        "    def __init__(self, radius):\n",
        "        self.radius = radius\n",
        "\n",
        "    def area(self):\n",
        "        import math\n",
        "        return math.pi * (self.radius ** 2)\n",
        "\n",
        "# Function that uses polymorphism with abstract classes\n",
        "def print_area(shape):\n",
        "    print(shape.area())\n",
        "\n",
        "rect = Rectangle(5, 10)\n",
        "circ = Circle(7)\n",
        "\n",
        "print_area(rect)  # Output: 50\n",
        "print_area(circ)  # Output: 153.93804002589985"
      ]
    },
    {
      "cell_type": "markdown",
      "metadata": {},
      "source": [
        "Question 5: How can polymorphism be used to implement the strategy design pattern?\n",
        "\n",
        "Answer:\n",
        "Polymorphism can be used to implement the strategy design pattern by defining a family of algorithms, encapsulating each algorithm in a separate class, and making them interchangeable. This allows a client class to choose an algorithm at runtime without altering the client’s code. Each algorithm can be represented by a different class that implements a common interface, providing flexibility in how operations are performed."
      ]
    },
    {
      "cell_type": "code",
      "execution_count": 5,
      "metadata": {},
      "outputs": [],
      "source": [
        "# Example of the strategy design pattern\n",
        "class Strategy(ABC):\n",
        "    @abstractmethod\n",
        "    def execute(self, data):\n",
        "        pass\n",
        "\n",
        "class ConcreteStrategyA(Strategy):\n",
        "    def execute(self, data):\n",
        "        return sorted(data)\n",
        "\n",
        "class ConcreteStrategyB(Strategy):\n",
        "    def execute(self, data):\n",
        "        return sorted(data, reverse=True)\n",
        "\n",
        "class Context:\n",
        "    def __init__(self, strategy):\n",
        "        self._strategy = strategy\n",
        "\n",
        "    def set_strategy(self, strategy):\n",
        "        self._strategy = strategy\n",
        "\n",
        "    def perform_task(self, data):\n",
        "        return self._strategy.execute(data)\n",
        "\n",
        "data = [5, 2, 9, 1]\n",
        "context = Context(ConcreteStrategyA())\n",
        "print(context.perform_task(data))  # Output: [1, 2, 5, 9]\n",
        "\n",
        "context.set_strategy(ConcreteStrategyB())\n",
        "print(context.perform_task(data))  # Output: [9, 5, 2, 1]"
      ]
    }
  ],
  "metadata": {
    "kernelspec": {
      "display_name": "Python 3 (ipykernel)",
      "language": "python",
      "name": "python3"
    },
    "language_info": {
      "codemirror_mode": {
        "name": "ipython",
        "version": 3
      },
      "file_extension": ".py",
      "mimetype": "text/x-python",
      "name": "python",
      "nbconvert_exporter": "python",
      "pygments_lexer": "ipython3",
      "version": "3.11.7"
    }
  },
  "nbformat": 4,
  "nbformat_minor": 5
}
