{
  "cells": [
    {
      "cell_type": "markdown",
      "metadata": {},
      "source": [
        "Question 1: What is Object-Oriented Programming (OOP) in Python?\n",
        "\n",
        "Answer:\n",
        "Object-Oriented Programming (OOP) is a programming paradigm based on the concept of objects, which can contain data (attributes) and code (methods). OOP aims to structure software in a way that promotes reuse, scalability, and maintainability. Key concepts of OOP include classes, objects, inheritance, encapsulation, and polymorphism."
      ]
    },
    {
      "cell_type": "code",
      "execution_count": 1,
      "metadata": {},
      "outputs": [],
      "source": [
        "# Example of a basic class and object\n",
        "class Person:\n",
        "    def __init__(self, name, age):\n",
        "        self.name = name\n",
        "        self.age = age\n",
        "\n",
        "    def greet(self):\n",
        "        return f'Hello, my name is {self.name} and I am {self.age} years old.'\n",
        "\n",
        "# Creating an object of the Person class\n",
        "person = Person('Alice', 30)\n",
        "print(person.greet())  # Output: Hello, my name is Alice and I am 30 years old."
      ]
    },
    {
      "cell_type": "markdown",
      "metadata": {},
      "source": [
        "Question 2: What is inheritance in Python?\n",
        "\n",
        "Answer:\n",
        "Inheritance is a mechanism in OOP that allows a class (child class) to inherit attributes and methods from another class (parent class). It promotes code reuse and establishes a natural hierarchy between classes. In Python, inheritance is achieved by passing the parent class as a parameter to the child class."
      ]
    },
    {
      "cell_type": "code",
      "execution_count": 2,
      "metadata": {},
      "outputs": [],
      "source": [
        "# Example of inheritance\n",
        "class Animal:\n",
        "    def __init__(self, name):\n",
        "        self.name = name\n",
        "\n",
        "    def speak(self):\n",
        "        return 'Animal sound'\n",
        "\n",
        "class Dog(Animal):\n",
        "    def speak(self):\n",
        "        return 'Woof!'\n",
        "\n",
        "# Creating an object of the Dog class\n",
        "dog = Dog('Buddy')\n",
        "print(dog.speak())  # Output: Woof!"
      ]
    },
    {
      "cell_type": "markdown",
      "metadata": {},
      "source": [
        "Question 3: What is encapsulation in Python?\n",
        "\n",
        "Answer:\n",
        "Encapsulation is the concept of bundling data (attributes) and methods (functions) that operate on the data into a single unit called a class. It restricts direct access to some of the object's components and can prevent the accidental modification of data. In Python, encapsulation is achieved using private and protected access modifiers."
      ]
    },
    {
      "cell_type": "code",
      "execution_count": 3,
      "metadata": {},
      "outputs": [],
      "source": [
        "# Example of encapsulation\n",
        "class BankAccount:\n",
        "    def __init__(self, balance):\n",
        "        self.__balance = balance  # Private attribute\n",
        "\n",
        "    def deposit(self, amount):\n",
        "        self.__balance += amount\n",
        "\n",
        "    def get_balance(self):\n",
        "        return self.__balance\n",
        "\n",
        "# Creating an object of the BankAccount class\n",
        "account = BankAccount(1000)\n",
        "account.deposit(500)\n",
        "print(account.get_balance())  # Output: 1500"
      ]
    },
    {
      "cell_type": "markdown",
      "metadata": {},
      "source": [
        "Question 4: What is polymorphism in Python?\n",
        "\n",
        "Answer:\n",
        "Polymorphism is a concept that allows different classes to be treated as instances of the same class through a common interface. It enables a single function or method to work in different ways depending on the object it is acting upon. In Python, polymorphism is often achieved through method overriding and operator overloading."
      ]
    },
    {
      "cell_type": "code",
      "execution_count": 4,
      "metadata": {},
      "outputs": [],
      "source": [
        "# Example of polymorphism\n",
        "class Bird:\n",
        "    def speak(self):\n",
        "        return 'Chirp!'\n",
        "\n",
        "class Cat:\n",
        "    def speak(self):\n",
        "        return 'Meow!'\n",
        "\n",
        "def make_animal_speak(animal):\n",
        "    print(animal.speak())\n",
        "\n",
        "# Creating objects of Bird and Cat classes\n",
        "bird = Bird()\n",
        "cat = Cat()\n",
        "\n",
        "make_animal_speak(bird)  # Output: Chirp!\n",
        "make_animal_speak(cat)   # Output: Meow!"
      ]
    },
    {
      "cell_type": "markdown",
      "metadata": {},
      "source": [
        "Question 5: What is abstraction in Python?\n",
        "\n",
        "Answer:\n",
        "Abstraction is the concept of hiding the complex implementation details and showing only the essential features of an object. It allows you to define the basic functionalities of an object while leaving the details of implementation to be handled by subclasses. In Python, abstraction is typically achieved using abstract classes and methods from the `abc` module."
      ]
    },
    {
      "cell_type": "code",
      "execution_count": 5,
      "metadata": {},
      "outputs": [],
      "source": [
        "# Example of abstraction\n",
        "from abc import ABC, abstractmethod\n",
        "\n",
        "class Shape(ABC):\n",
        "    @abstractmethod\n",
        "    def area(self):\n",
        "        pass\n",
        "\n",
        "class Rectangle(Shape):\n",
        "    def __init__(self, width, height):\n",
        "        self.width = width\n",
        "        self.height = height\n",
        "\n",
        "    def area(self):\n",
        "        return self.width * self.height\n",
        "\n",
        "# Creating an object of the Rectangle class\n",
        "rect = Rectangle(5, 3)\n",
        "print(rect.area())  # Output: 15"
      ]
    }
  ],
  "metadata": {
    "kernelspec": {
      "display_name": "Python 3 (ipykernel)",
      "language": "python",
      "name": "python3"
    },
    "language_info": {
      "codemirror_mode": {
        "name": "ipython",
        "version": 3
      },
      "file_extension": ".py",
      "mimetype": "text/x-python",
      "name": "python",
      "nbconvert_exporter": "python",
      "pygments_lexer": "ipython3",
      "version": "3.11.7"
    }
  },
  "nbformat": 4,
  "nbformat_minor": 5
}
