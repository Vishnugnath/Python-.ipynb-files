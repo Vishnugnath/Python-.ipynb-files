{
  "cells": [
    {
      "cell_type": "markdown",
      "metadata": {},
      "source": [
        "Question 1: What are recursive functions in Python?\n",
        "\n",
        "Answer:\n",
        "A recursive function is a function that calls itself in order to solve a problem. The function generally has a base case to terminate the recursion and a recursive case to continue the recursion."
      ]
    },
    {
      "cell_type": "code",
      "execution_count": 1,
      "metadata": {},
      "outputs": [],
      "source": [
        "# Example of a simple recursive function: factorial\n",
        "def factorial(n):\n",
        "    if n == 0:\n",
        "        return 1\n",
        "    else:\n",
        "        return n * factorial(n - 1)\n",
        "\n",
        "# Calling the function\n",
        "print(factorial(5))  # Output: 120\n",
        "print(factorial(0))  # Output: 1"
      ]
    },
    {
      "cell_type": "markdown",
      "metadata": {},
      "source": [
        "Question 2: What is the base case in a recursive function?\n",
        "\n",
        "Answer:\n",
        "The base case in a recursive function is the condition under which the recursion ends. It prevents the function from calling itself indefinitely and typically handles the simplest, smallest instance of the problem."
      ]
    },
    {
      "cell_type": "code",
      "execution_count": 2,
      "metadata": {},
      "outputs": [],
      "source": [
        "# Example showing base case\n",
        "def countdown(n):\n",
        "    if n <= 0:\n",
        "        print('Blastoff!')  # Base case\n",
        "    else:\n",
        "        print(n)\n",
        "        countdown(n - 1)\n",
        "\n",
        "# Calling the function\n",
        "countdown(5)  # Output: 5 4 3 2 1 Blastoff!"
      ]
    },
    {
      "cell_type": "markdown",
      "metadata": {},
      "source": [
        "Question 3: What is the recursive case in a recursive function?\n",
        "\n",
        "Answer:\n",
        "The recursive case in a recursive function is the part of the function that includes the call to the function itself. It breaks down the problem into smaller instances and continues the recursion until it reaches the base case."
      ]
    },
    {
      "cell_type": "code",
      "execution_count": 3,
      "metadata": {},
      "outputs": [],
      "source": [
        "# Example showing recursive case\n",
        "def sum_of_n(n):\n",
        "    if n == 0:\n",
        "        return 0  # Base case\n",
        "    else:\n",
        "        return n + sum_of_n(n - 1)  # Recursive case\n",
        "\n",
        "# Calling the function\n",
        "print(sum_of_n(5))  # Output: 15 (5 + 4 + 3 + 2 + 1 + 0)"
      ]
    },
    {
      "cell_type": "markdown",
      "metadata": {},
      "source": [
        "Question 4: How do you handle recursion depth in Python?\n",
        "\n",
        "Answer:\n",
        "Python has a default recursion depth limit to prevent infinite recursion from causing a stack overflow. You can check or modify this limit using the `sys` module."
      ]
    },
    {
      "cell_type": "code",
      "execution_count": 4,
      "metadata": {},
      "outputs": [],
      "source": [
        "import sys\n",
        "\n",
        "# Checking the current recursion limit\n",
        "print(sys.getrecursionlimit())  # Output: 1000 (default value)\n",
        "\n",
        "# Setting a new recursion limit\n",
        "sys.setrecursionlimit(2000)\n",
        "print(sys.getrecursionlimit())  # Output: 2000"
      ]
    },
    {
      "cell_type": "markdown",
      "metadata": {},
      "source": [
        "Question 5: What are some common use cases for recursive functions?\n",
        "\n",
        "Answer:\n",
        "Recursive functions are commonly used for tasks such as:\n",
        "- Calculating factorials\n",
        "- Generating Fibonacci sequences\n",
        "- Performing depth-first search in algorithms\n",
        "- Solving problems that can be broken down into smaller, similar subproblems (e.g., the Tower of Hanoi)"
      ]
    },
    {
      "cell_type": "code",
      "execution_count": 5,
      "metadata": {},
      "outputs": [],
      "source": [
        "# Example: Fibonacci sequence\n",
        "def fibonacci(n):\n",
        "    if n <= 1:\n",
        "        return n\n",
        "    else:\n",
        "        return fibonacci(n - 1) + fibonacci(n - 2)\n",
        "\n",
        "# Calling the function\n",
        "print(fibonacci(6))  # Output: 8 (0, 1, 1, 2, 3, 5, 8)"
      ]
    }
  ],
  "metadata": {
    "kernelspec": {
      "display_name": "Python 3 (ipykernel)",
      "language": "python",
      "name": "python3"
    },
    "language_info": {
      "codemirror_mode": {
        "name": "ipython",
        "version": 3
      },
      "file_extension": ".py",
      "mimetype": "text/x-python",
      "name": "python",
      "nbconvert_exporter": "python",
      "pygments_lexer": "ipython3",
      "version": "3.11.7"
    }
  },
  "nbformat": 4,
  "nbformat_minor": 5
}
