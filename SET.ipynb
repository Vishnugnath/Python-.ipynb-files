{
 "cells": [
  {
   "cell_type": "markdown",
   "id": "af6da071-a3be-495c-b7cd-ced2ddd65318",
   "metadata": {},
   "source": [
    "##SET"
   ]
  },
  {
   "cell_type": "markdown",
   "id": "e978adb7-9cea-4ae7-8511-80fe8497e4ce",
   "metadata": {},
   "source": [
    "Question 1: What is a set in Python and how do you create one?\n",
    "\n",
    "Answer:\n",
    "\n",
    "A set is an unordered collection of unique elements.\n",
    "Sets are mutable, but they cannot contain mutable elements like lists or dictionaries."
   ]
  },
  {
   "cell_type": "code",
   "execution_count": 145,
   "id": "2ec2f48d-0ba0-4514-a283-ecc712c865f1",
   "metadata": {},
   "outputs": [
    {
     "name": "stdout",
     "output_type": "stream",
     "text": [
      "{1, 2, 3, 4, 5}\n",
      "set()\n"
     ]
    }
   ],
   "source": [
    "# Creating a set\n",
    "my_set = {1, 2, 3, 4, 5}\n",
    "print(my_set)  # Output: {1, 2, 3, 4, 5}\n",
    "\n",
    "# Creating an empty set\n",
    "empty_set = set()\n",
    "print(empty_set)  # Output: set()\n"
   ]
  },
  {
   "cell_type": "code",
   "execution_count": null,
   "id": "6d8a2ef8-8a13-466a-bb1e-3782d16185ef",
   "metadata": {},
   "outputs": [],
   "source": []
  },
  {
   "cell_type": "markdown",
   "id": "560fe301-c77a-46b0-9952-15ecb2b50f6c",
   "metadata": {},
   "source": [
    "Question 2: How can you add and remove elements from a set?\n",
    "\n",
    "Answer:\n",
    "You can add elements to a set using the add() method and \n",
    "remove elements using the remove() or discard() methods."
   ]
  },
  {
   "cell_type": "code",
   "execution_count": 147,
   "id": "cc731788-b1b9-4fc5-988f-859f009e23b4",
   "metadata": {},
   "outputs": [
    {
     "name": "stdout",
     "output_type": "stream",
     "text": [
      "{1, 2, 3, 4}\n",
      "{1, 3, 4}\n",
      "{1, 3, 4}\n"
     ]
    }
   ],
   "source": [
    "my_set = {1, 2, 3}\n",
    "\n",
    "# Adding an element\n",
    "my_set.add(4)\n",
    "print(my_set)  # Output: {1, 2, 3, 4}\n",
    "\n",
    "# Removing an element\n",
    "my_set.remove(2)\n",
    "print(my_set)  # Output: {1, 3, 4}\n",
    "\n",
    "# Removing an element that may or may not be present\n",
    "my_set.discard(5)  # No error if 5 is not in the set\n",
    "print(my_set)  # Output: {1, 3, 4}\n"
   ]
  },
  {
   "cell_type": "code",
   "execution_count": null,
   "id": "c9a3df14-d100-4e1a-8897-ac3e62291bc0",
   "metadata": {},
   "outputs": [],
   "source": []
  },
  {
   "cell_type": "markdown",
   "id": "117a25da-de41-4ddd-9563-2e875c11d60e",
   "metadata": {},
   "source": [
    "Question 3: What are some common set operations like union, intersection, difference, and symmetric difference?\n",
    "\n",
    "Answer:\n",
    "\n",
    "    Union (| or union()): Combines all unique elements from both sets.\n",
    "    \n",
    "    Intersection (& or intersection()): Finds elements common to both sets.\n",
    "    \n",
    "    Difference (- or difference()): Finds elements in the first set but not in the second.\n",
    "    \n",
    "    Symmetric Difference (^ or symmetric_difference()): Finds elements in either set, but \n",
    "    not in both."
   ]
  },
  {
   "cell_type": "code",
   "execution_count": 151,
   "id": "27e3ad7d-6c8c-45cf-94f9-c71eaf4cef18",
   "metadata": {},
   "outputs": [
    {
     "name": "stdout",
     "output_type": "stream",
     "text": [
      "{1, 2, 3, 4, 5}\n",
      "{3}\n",
      "{1, 2}\n",
      "{1, 2, 4, 5}\n"
     ]
    }
   ],
   "source": [
    "set1 = {1, 2, 3}\n",
    "set2 = {3, 4, 5}\n",
    "\n",
    "# Union\n",
    "print(set1 | set2)  # Output: {1, 2, 3, 4, 5}\n",
    "\n",
    "# Intersection\n",
    "print(set1 & set2)  # Output: {3}\n",
    "\n",
    "# Difference\n",
    "print(set1 - set2)  # Output: {1, 2}\n",
    "\n",
    "# Symmetric Difference\n",
    "print(set1 ^ set2)  # Output: {1, 2, 4, 5}\n"
   ]
  },
  {
   "cell_type": "code",
   "execution_count": null,
   "id": "b5c7abbe-2948-467a-9f0c-f75fbe0ce9fe",
   "metadata": {},
   "outputs": [],
   "source": []
  },
  {
   "cell_type": "markdown",
   "id": "0b2ebf11-e2f2-4cee-9b50-4edd77873171",
   "metadata": {},
   "source": [
    "Question 4: How do you check if an element is in a set and how do you find the length of a set?\n",
    "\n",
    "Answer:\n",
    "You can check if an element is in a set using the in keyword and find the length of a set,\n",
    "using the len() function."
   ]
  },
  {
   "cell_type": "code",
   "execution_count": 153,
   "id": "5f488d2f-e622-483f-810d-a59bac875c4c",
   "metadata": {},
   "outputs": [
    {
     "name": "stdout",
     "output_type": "stream",
     "text": [
      "True\n",
      "False\n",
      "5\n"
     ]
    }
   ],
   "source": [
    "my_set = {1, 2, 3, 4, 5}\n",
    "\n",
    "# Check if an element is in the set\n",
    "print(3 in my_set)  # Output: True\n",
    "print(6 in my_set)  # Output: False\n",
    "\n",
    "# Find the length of the set\n",
    "print(len(my_set))  # Output: 5\n"
   ]
  },
  {
   "cell_type": "code",
   "execution_count": null,
   "id": "5bfa5f84-5623-4fe3-be57-a7d21a35a1d3",
   "metadata": {},
   "outputs": [],
   "source": []
  },
  {
   "cell_type": "markdown",
   "id": "8187e10a-40db-453d-ace5-986cd94edb85",
   "metadata": {},
   "source": [
    "Question 5: How do you remove all elements from a set and how do you copy a set?\n",
    "\n",
    "Answer:\n",
    "You can remove all elements from a set using the clear() method and\n",
    "copy a set using the copy() method."
   ]
  },
  {
   "cell_type": "code",
   "execution_count": 156,
   "id": "a5f29c00-f5b2-4ebd-8e31-03c9b3ac5ca0",
   "metadata": {},
   "outputs": [
    {
     "name": "stdout",
     "output_type": "stream",
     "text": [
      "set()\n",
      "{1, 2, 3}\n"
     ]
    }
   ],
   "source": [
    "my_set = {1, 2, 3, 4, 5}\n",
    "\n",
    "# Clear the set\n",
    "my_set.clear()\n",
    "print(my_set)  # Output: set()\n",
    "\n",
    "# Copy a set\n",
    "original_set = {1, 2, 3}\n",
    "copied_set = original_set.copy()\n",
    "print(copied_set)  # Output: {1, 2, 3}\n"
   ]
  },
  {
   "cell_type": "code",
   "execution_count": null,
   "id": "f45ee43c-5232-4a10-b58c-08983bc21974",
   "metadata": {},
   "outputs": [],
   "source": []
  }
 ],
 "metadata": {
  "kernelspec": {
   "display_name": "Python 3 (ipykernel)",
   "language": "python",
   "name": "python3"
  },
  "language_info": {
   "codemirror_mode": {
    "name": "ipython",
    "version": 3
   },
   "file_extension": ".py",
   "mimetype": "text/x-python",
   "name": "python",
   "nbconvert_exporter": "python",
   "pygments_lexer": "ipython3",
   "version": "3.11.7"
  }
 },
 "nbformat": 4,
 "nbformat_minor": 5
}
