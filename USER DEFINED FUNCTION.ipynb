{
  "cells": [
    {
      "cell_type": "markdown",
      "metadata": {},
      "source": [
        "Question 1: What are user-defined functions in Python?\n",
        "\n",
        "Answer:\n",
        "User-defined functions are functions that are created by the user to perform specific tasks. They help in organizing the code, making it reusable, and improving readability. They are defined using the `def` keyword."
      ]
    },
    {
      "cell_type": "code",
      "execution_count": 1,
      "metadata": {},
      "outputs": [
        {
          "name": "stdout",
          "output_type": "stream",
          "text": [
            "Hello, World!\n"
          ]
        }
      ],
      "source": [
        "# Example of a user-defined function\n",
        "def greet():\n",
        "    print('Hello, World!')\n",
        "\n",
        "# Calling the function\n",
        "greet()  # Output: Hello, World!"
      ]
    },
    {
      "cell_type": "markdown",
      "metadata": {},
      "source": [
        "Question 2: How do you pass arguments to a function?\n",
        "\n",
        "Answer:\n",
        "Arguments can be passed to functions to provide input values. These arguments are specified within the parentheses in the function definition. You can pass multiple arguments separated by commas."
      ]
    },
    {
      "cell_type": "code",
      "execution_count": 2,
      "metadata": {},
      "outputs": [
        {
          "name": "stdout",
          "output_type": "stream",
          "text": [
            "3\n",
            "15\n"
          ]
        }
      ],
      "source": [
        "# Example of a function with arguments\n",
        "def add(a, b):\n",
        "    return a + b\n",
        "\n",
        "# Calling the function with arguments\n",
        "print(add(1, 2))  # Output: 3\n",
        "print(add(7, 8))  # Output: 15"
      ]
    },
    {
      "cell_type": "markdown",
      "metadata": {},
      "source": [
        "Question 3: How do you return values from a function?\n",
        "\n",
        "Answer:\n",
        "A function can return a value using the `return` statement. The `return` statement exits the function and optionally passes back a value to the caller."
      ]
    },
    {
      "cell_type": "code",
      "execution_count": 3,
      "metadata": {},
      "outputs": [
        {
          "name": "stdout",
          "output_type": "stream",
          "text": [
            "9\n",
            "20\n"
          ]
        }
      ],
      "source": [
        "# Example of a function that returns a value\n",
        "def multiply(a, b):\n",
        "    return a * b\n",
        "\n",
        "# Calling the function and storing the result\n",
        "result = multiply(3, 3)\n",
        "print(result)  # Output: 9\n",
        "\n",
        "result = multiply(4, 5)\n",
        "print(result)  # Output: 20"
      ]
    },
    {
      "cell_type": "markdown",
      "metadata": {},
      "source": [
        "Question 4: What are default arguments in a function?\n",
        "\n",
        "Answer:\n",
        "Default arguments allow you to specify default values for parameters. If no argument is provided for that parameter when the function is called, the default value is used."
      ]
    },
    {
      "cell_type": "code",
      "execution_count": 4,
      "metadata": {},
      "outputs": [
        {
          "name": "stdout",
          "output_type": "stream",
          "text": [
            "Hello, Alice!\n",
            "Hello, Bob!\n"
          ]
        }
      ],
      "source": [
        "# Example of a function with default arguments\n",
        "def greet(name='Alice'):\n",
        "    print(f'Hello, {name}!')\n",
        "\n",
        "# Calling the function with and without an argument\n",
        "greet()  # Output: Hello, Alice!\n",
        "greet('Bob')  # Output: Hello, Bob!"
      ]
    },
    {
      "cell_type": "markdown",
      "metadata": {},
      "source": [
        "Question 5: What are keyword arguments in a function?\n",
        "\n",
        "Answer:\n",
        "Keyword arguments allow you to pass arguments to a function by explicitly specifying the parameter name. This improves code readability and allows you to pass arguments in any order."
      ]
    },
    {
      "cell_type": "code",
      "execution_count": 5,
      "metadata": {},
      "outputs": [
        {
          "name": "stdout",
          "output_type": "stream",
          "text": [
            "Bob is 25 years old.\n",
            "Alice is 30 years old.\n"
          ]
        }
      ],
      "source": [
        "# Example of a function with keyword arguments\n",
        "def person_info(name, age):\n",
        "    print(f'{name} is {age} years old.')\n",
        "\n",
        "# Calling the function with keyword arguments\n",
        "person_info(name='Bob', age=25)  # Output: Bob is 25 years old.\n",
        "person_info(age=30, name='Alice')  # Output: Alice is 30 years old."
      ]
    }
  ],
  "metadata": {
    "kernelspec": {
      "display_name": "Python 3 (ipykernel)",
      "language": "python",
      "name": "python3"
    },
    "language_info": {
      "codemirror_mode": {
        "name": "ipython",
        "version": 3
      },
      "file_extension": ".py",
      "mimetype": "text/x-python",
      "name": "python",
      "nbconvert_exporter": "python",
      "pygments_lexer": "ipython3",
      "version": "3.11.7"
    }
  },
  "nbformat": 4,
  "nbformat_minor": 5
}
