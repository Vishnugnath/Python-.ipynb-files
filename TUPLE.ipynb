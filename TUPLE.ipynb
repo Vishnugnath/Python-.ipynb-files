{
 "cells": [
  {
   "cell_type": "markdown",
   "id": "ca790269-08d0-4a42-88a2-dbc094425b2d",
   "metadata": {},
   "source": [
    "TUPLES"
   ]
  },
  {
   "cell_type": "markdown",
   "id": "bd98adab-8c93-4982-9b93-f85b68c80767",
   "metadata": {},
   "source": [
    "Question 1: What is a tuple in Python and how do you create one?\n",
    "\n",
    "Answer:\n",
    "A tuple is an immutable, ordered collection of elements. Tuples can contain elements of different data types and \n",
    "are defined by enclosing the elements in parentheses ()."
   ]
  },
  {
   "cell_type": "code",
   "execution_count": 3,
   "id": "c7b36121-9584-47f6-8e01-bdb23ca57d98",
   "metadata": {},
   "outputs": [
    {
     "name": "stdout",
     "output_type": "stream",
     "text": [
      "(1, 2, 3, 'a', 'b', 'c')\n",
      "(1, 2, 3)\n",
      "()\n",
      "(1,)\n"
     ]
    }
   ],
   "source": [
    "# Creating a tuple\n",
    "my_tuple = (1, 2, 3, \"a\", \"b\", \"c\")\n",
    "print(my_tuple)  # Output: (1, 2, 3, 'a', 'b', 'c')\n",
    "\n",
    "# Creating a tuple without parentheses (not recommended for clarity)\n",
    "my_tuple2 = 1, 2, 3\n",
    "print(my_tuple2)  # Output: (1, 2, 3)\n",
    "\n",
    "# Creating an empty tuple\n",
    "empty_tuple = ()\n",
    "print(empty_tuple)  # Output: ()\n",
    "\n",
    "# Creating a single-element tuple\n",
    "single_element_tuple = (1,)\n",
    "print(single_element_tuple)  # Output: (1,)\n"
   ]
  },
  {
   "cell_type": "code",
   "execution_count": null,
   "id": "357caa87-8339-4d78-bb05-c28254fe7427",
   "metadata": {},
   "outputs": [],
   "source": []
  },
  {
   "cell_type": "markdown",
   "id": "a8a1f929-eb1e-445b-9b95-faf0078cec93",
   "metadata": {},
   "source": [
    "Question 2: How do you access elements in a tuple?\n",
    "\n",
    "Answer:\n",
    "You can access elements in a tuple using indexing (starting from 0).\n",
    "Tuples support both positive and negative indexing."
   ]
  },
  {
   "cell_type": "code",
   "execution_count": 5,
   "id": "82b45642-5c83-4ca1-a691-9b4f0cc4bc72",
   "metadata": {},
   "outputs": [
    {
     "name": "stdout",
     "output_type": "stream",
     "text": [
      "10\n",
      "30\n",
      "50\n",
      "30\n"
     ]
    }
   ],
   "source": [
    "my_tuple = (10, 20, 30, 40, 50)\n",
    "\n",
    "# Accessing elements using positive indexing\n",
    "print(my_tuple[0])  # Output: 10\n",
    "print(my_tuple[2])  # Output: 30\n",
    "\n",
    "# Accessing elements using negative indexing\n",
    "print(my_tuple[-1])  # Output: 50\n",
    "print(my_tuple[-3])  # Output: 30\n"
   ]
  },
  {
   "cell_type": "code",
   "execution_count": null,
   "id": "a634289d-f6ff-4cb5-898a-76e4007982b3",
   "metadata": {},
   "outputs": [],
   "source": []
  },
  {
   "cell_type": "markdown",
   "id": "f13a4495-5b92-421d-84c3-89f916757504",
   "metadata": {},
   "source": [
    "Question 3: How do you slice a tuple?\n",
    "\n",
    "Answer:\n",
    "You can slice a tuple to access a subset of its elements using the slice notation start:stop:step."
   ]
  },
  {
   "cell_type": "code",
   "execution_count": 7,
   "id": "58da36c8-2901-49b8-a7d2-a4122af7d563",
   "metadata": {},
   "outputs": [
    {
     "name": "stdout",
     "output_type": "stream",
     "text": [
      "(2, 3, 4)\n",
      "(0, 1, 2)\n",
      "(5, 6, 7, 8, 9)\n",
      "(0, 2, 4, 6, 8)\n",
      "(9, 8, 7, 6, 5, 4, 3, 2, 1, 0)\n"
     ]
    }
   ],
   "source": [
    "my_tuple = (0, 1, 2, 3, 4, 5, 6, 7, 8, 9)\n",
    "\n",
    "# Slicing a tuple\n",
    "print(my_tuple[2:5])  # Output: (2, 3, 4)\n",
    "print(my_tuple[:3])   # Output: (0, 1, 2)\n",
    "print(my_tuple[5:])   # Output: (5, 6, 7, 8, 9)\n",
    "print(my_tuple[::2])  # Output: (0, 2, 4, 6, 8)\n",
    "print(my_tuple[::-1]) # Output: (9, 8, 7, 6, 5, 4, 3, 2, 1, 0)\n"
   ]
  },
  {
   "cell_type": "code",
   "execution_count": null,
   "id": "6a76dafc-4549-4336-9a1c-7a3556635b3b",
   "metadata": {},
   "outputs": [],
   "source": []
  },
  {
   "cell_type": "code",
   "execution_count": null,
   "id": "01453b48-badc-4d28-9436-4a71b2a5df27",
   "metadata": {},
   "outputs": [],
   "source": []
  }
 ],
 "metadata": {
  "kernelspec": {
   "display_name": "Python 3 (ipykernel)",
   "language": "python",
   "name": "python3"
  },
  "language_info": {
   "codemirror_mode": {
    "name": "ipython",
    "version": 3
   },
   "file_extension": ".py",
   "mimetype": "text/x-python",
   "name": "python",
   "nbconvert_exporter": "python",
   "pygments_lexer": "ipython3",
   "version": "3.11.7"
  }
 },
 "nbformat": 4,
 "nbformat_minor": 5
}
