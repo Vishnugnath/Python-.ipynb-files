{
  "cells": [
    {
      "cell_type": "markdown",
      "metadata": {},
      "source": [
        "### Question 1: What is a context manager in Python?\n",
        "\n",
        "**Answer:**\n",
        "A context manager in Python is a construct that allows you to allocate and release resources precisely when you want to. The most common use case for a context manager is to handle resources like file streams, database connections, and locks in a way that ensures proper acquisition and release of resources. Context managers are typically used with the `with` statement."
      ]
    },
    {
      "cell_type": "code",
      "execution_count": 1,
      "metadata": {},
      "outputs": [],
      "source": [
        "# Basic example of using a context manager with file handling\n",
        "with open('example.txt', 'w') as file:\n",
        "    file.write('Hello, world!')\n",
        "# No need to explicitly close the file, it's handled by the context manager\n"
      ]
    },
    {
      "cell_type": "markdown",
      "metadata": {},
      "source": [
        "### Question 2: How do you define a custom context manager?\n",
        "\n",
        "**Answer:**\n",
        "You can define a custom context manager by implementing the `__enter__` and `__exit__` methods in a class. The `__enter__` method is executed when the execution flow enters the context of the `with` statement, and the `__exit__` method is executed when the flow exits the context."
      ]
    },
    {
      "cell_type": "code",
      "execution_count": 2,
      "metadata": {},
      "outputs": [],
      "source": [
        "# Custom context manager example\n",
        "class MyContextManager:\n",
        "    def __enter__(self):\n",
        "        print('Entering the context')\n",
        "        return self\n",
        "\n",
        "    def __exit__(self, exc_type, exc_value, traceback):\n",
        "        print('Exiting the context')\n",
        "        return False\n",
        "\n",
        "with MyContextManager() as cm:\n",
        "    print('Inside the context')\n",
        "# Output will show the context entering and exiting messages\n"
      ]
    },
    {
      "cell_type": "markdown",
      "metadata": {},
      "source": [
        "### Question 3: How does the `with` statement work with context managers?\n",
        "\n",
        "**Answer:**\n",
        "The `with` statement simplifies exception handling by encapsulating common preparation and cleanup tasks in so-called context managers. When the `with` block is entered, the context manager’s `__enter__` method is called. When the block is exited, the context manager’s `__exit__` method is called, regardless of whether an exception was raised or not."
      ]
    },
    {
      "cell_type": "code",
      "execution_count": 3,
      "metadata": {},
      "outputs": [
        {
          "name": "stdout",
          "output_type": "stream",
          "text": [
            "Entering the context\n",
            "Inside the context\n",
            "Exiting the context\n"
          ]
        }
      ],
      "source": [
        "# Example of using the custom context manager\n",
        "with MyContextManager() as cm:\n",
        "    print('Inside the context')\n"
      ]
    },
    {
      "cell_type": "markdown",
      "metadata": {},
      "source": [
        "### Question 4: What are the advantages of using context managers?\n",
        "\n",
        "**Answer:**\n",
        "Context managers provide several advantages:\n",
        "- **Automatic Resource Management**: Automatically handle resource management, such as closing files or releasing locks.\n",
        "- **Exception Handling**: Ensure proper cleanup even if exceptions are raised.\n",
        "- **Cleaner Code**: Make code more readable and maintainable by avoiding repetitive setup and teardown code."
      ]
    },
    {
      "cell_type": "code",
      "execution_count": 4,
      "metadata": {},
      "outputs": [],
      "source": [
        "# Example of a context manager handling exceptions\n",
        "class SafeFileOpener:\n",
        "    def __init__(self, filename, mode):\n",
        "        self.filename = filename\n",
        "        self.mode = mode\n",
        "        self.file = None\n",
        "\n",
        "    def __enter__(self):\n",
        "        self.file = open(self.filename, self.mode)\n",
        "        return self.file\n",
        "\n",
        "    def __exit__(self, exc_type, exc_value, traceback):\n",
        "        if self.file:\n",
        "            self.file.close()\n",
        "        if exc_type:\n",
        "            print(f'Exception type: {exc_type}')\n",
        "        return True\n",
        "\n",
        "try:\n",
        "    with SafeFileOpener('example.txt', 'w') as file:\n",
        "        file.write('Hello, world!')\n",
        "        raise Exception('An error occurred')\n",
        "except Exception as e:\n",
        "    print(f'Caught exception: {e}')\n"
      ]
    },
    {
      "cell_type": "markdown",
      "metadata": {},
      "source": [
        "### Question 5: How can you use the `contextlib` module for context management?\n",
        "\n",
        "**Answer:**\n",
        "The `contextlib` module provides utilities for creating and working with context managers. For example, you can use the `contextlib.contextmanager` decorator to create a context manager from a generator function, which can be simpler than writing a full class-based context manager."
      ]
    },
    {
      "cell_type": "code",
      "execution_count": 5,
      "metadata": {},
      "outputs": [],
      "source": [
        "# Using contextlib to create a context manager\n",
        "from contextlib import contextmanager\n",
        "\n",
        "@contextmanager\n",
        "def open_file(filename, mode):\n",
        "    file = open(filename, mode)\n",
        "    try:\n",
        "        yield file\n",
        "    finally:\n",
        "        file.close()\n",
        "\n",
        "with open_file('example.txt', 'w') as file:\n",
        "    file.write('Hello, world!')\n"
      ]
    }
  ],
  "metadata": {
    "kernelspec": {
      "display_name": "Python 3 (ipykernel)",
      "language": "python",
      "name": "python3"
    },
    "language_info": {
      "codemirror_mode": {
        "name": "ipython",
        "version": 3
      },
      "file_extension": ".py",
      "mimetype": "text/x-python",
      "name": "python",
      "nbconvert_exporter": "python",
      "pygments_lexer": "ipython3",
      "version": "3.11.7"
    }
  },
  "nbformat": 4,
  "nbformat_minor": 5
}
