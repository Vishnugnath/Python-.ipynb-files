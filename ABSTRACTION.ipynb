{
  "cells": [
    {
      "cell_type": "markdown",
      "metadata": {},
      "source": [
        "Question 1: What is abstraction in Python?\n",
        "\n",
        "Answer:\n",
        "Abstraction is an Object-Oriented Programming (OOP) concept that focuses on hiding the complex implementation details and showing only the essential features of an object. It helps in reducing complexity by providing a simplified interface for interaction. In Python, abstraction is achieved through abstract classes and abstract methods using the `abc` (Abstract Base Classes) module."
      ]
    },
    {
      "cell_type": "code",
      "execution_count": 1,
      "metadata": {},
      "outputs": [],
      "source": [
        "# Example of abstraction using abstract base classes\n",
        "from abc import ABC, abstractmethod\n",
        "\n",
        "class Shape(ABC):\n",
        "    @abstractmethod\n",
        "    def area(self):\n",
        "        pass\n",
        "\n",
        "class Rectangle(Shape):\n",
        "    def __init__(self, width, height):\n",
        "        self.width = width\n",
        "        self.height = height\n",
        "\n",
        "    def area(self):\n",
        "        return self.width * self.height\n",
        "\n",
        "class Circle(Shape):\n",
        "    def __init__(self, radius):\n",
        "        self.radius = radius\n",
        "\n",
        "    def area(self):\n",
        "        import math\n",
        "        return math.pi * (self.radius ** 2)\n",
        "\n",
        "# Creating instances\n",
        "rect = Rectangle(5, 10)\n",
        "circ = Circle(7)\n",
        "\n",
        "print(f'Rectangle area: {rect.area()}')  # Output: Rectangle area: 50\n",
        "print(f'Circle area: {circ.area()}')    # Output: Circle area: 153.93804002589985"
      ]
    },
    {
      "cell_type": "markdown",
      "metadata": {},
      "source": [
        "Question 2: How do abstract classes and methods contribute to abstraction?\n",
        "\n",
        "Answer:\n",
        "Abstract classes and methods contribute to abstraction by defining a common interface with abstract methods that must be implemented by any derived class. An abstract class cannot be instantiated on its own, and it provides a blueprint for other classes. Abstract methods are declared in the abstract class without implementation, forcing derived classes to provide specific implementations. This helps in enforcing a consistent interface and hiding complex implementation details."
      ]
    },
    {
      "cell_type": "code",
      "execution_count": 2,
      "metadata": {},
      "outputs": [],
      "source": [
        "# Example showing the enforcement of abstract methods\n",
        "from abc import ABC, abstractmethod\n",
        "\n",
        "class Vehicle(ABC):\n",
        "    @abstractmethod\n",
        "    def start_engine(self):\n",
        "        pass\n",
        "\n",
        "class Car(Vehicle):\n",
        "    def start_engine(self):\n",
        "        return 'Car engine started'\n",
        "\n",
        "class Bike(Vehicle):\n",
        "    def start_engine(self):\n",
        "        return 'Bike engine started'\n",
        "\n",
        "# Function demonstrating abstraction\n",
        "def start_vehicle(vehicle):\n",
        "    print(vehicle.start_engine())\n",
        "\n",
        "car = Car()\n",
        "bike = Bike()\n",
        "\n",
        "start_vehicle(car)  # Output: Car engine started\n",
        "start_vehicle(bike) # Output: Bike engine started"
      ]
    },
    {
      "cell_type": "markdown",
      "metadata": {},
      "source": [
        "Question 3: How does abstraction help in software design?\n",
        "\n",
        "Answer:\n",
        "Abstraction helps in software design by promoting modularity and encapsulation. It allows designers to focus on the high-level functionality of components without getting bogged down by implementation details. By using abstract classes and methods, developers can create a clear contract for how different parts of the system interact, improving maintainability and flexibility. Abstraction also enables code reusability and separation of concerns, making the system easier to understand and manage."
      ]
    },
    {
      "cell_type": "code",
      "execution_count": 3,
      "metadata": {},
      "outputs": [],
      "source": [
        "# Example showing the use of abstraction for modular design\n",
        "from abc import ABC, abstractmethod\n",
        "\n",
        "class PaymentMethod(ABC):\n",
        "    @abstractmethod\n",
        "    def process_payment(self, amount):\n",
        "        pass\n",
        "\n",
        "class CreditCard(PaymentMethod):\n",
        "    def process_payment(self, amount):\n",
        "        return f'Processing credit card payment of ${amount}'\n",
        "\n",
        "class PayPal(PaymentMethod):\n",
        "    def process_payment(self, amount):\n",
        "        return f'Processing PayPal payment of ${amount}'\n",
        "\n",
        "# Function demonstrating abstraction in payment processing\n",
        "def handle_payment(payment_method, amount):\n",
        "    print(payment_method.process_payment(amount))\n",
        "\n",
        "credit_card = CreditCard()\n",
        "paypal = PayPal()\n",
        "\n",
        "handle_payment(credit_card, 100)  # Output: Processing credit card payment of $100\n",
        "handle_payment(paypal, 50)      # Output: Processing PayPal payment of $50"
      ]
    },
    {
      "cell_type": "markdown",
      "metadata": {},
      "source": [
        "Question 4: Can you use abstraction without inheritance?\n",
        "\n",
        "Answer:\n",
        "Abstraction in Python typically involves inheritance because abstract classes are designed to be extended by other classes. However, some level of abstraction can be achieved without inheritance through other techniques such as interfaces, function decorators, or by simply defining functions that encapsulate specific behaviors. But for a full OOP approach, inheritance and abstract classes are commonly used to enforce abstraction."
      ]
    },
    {
      "cell_type": "code",
      "execution_count": 4,
      "metadata": {},
      "outputs": [],
      "source": [
        "# Example of abstraction without inheritance using function decorators\n",
        "def abstract_method(method):\n",
        "    def wrapper(*args, **kwargs):\n",
        "        raise NotImplementedError('Subclasses must implement this method')\n",
        "    return wrapper\n",
        "\n",
        "class Shape:\n",
        "    @abstract_method\n",
        "    def area(self):\n",
        "        pass\n",
        "\n",
        "class Rectangle(Shape):\n",
        "    def __init__(self, width, height):\n",
        "        self.width = width\n",
        "        self.height = height\n",
        "\n",
        "    def area(self):\n",
        "        return self.width * self.height\n",
        "\n",
        "rect = Rectangle(5, 10)\n",
        "print(f'Rectangle area: {rect.area()}')  # Output: Rectangle area: 50"
      ]
    }
  ],
  "metadata": {
    "kernelspec": {
      "display_name": "Python 3 (ipykernel)",
      "language": "python",
      "name": "python3"
    },
    "language_info": {
      "codemirror_mode": {
        "name": "ipython",
        "version": 3
      },
      "file_extension": ".py",
      "mimetype": "text/x-python",
      "name": "python",
      "nbconvert_exporter": "python",
      "pygments_lexer": "ipython3",
      "version": "3.11.7"
    }
  },
  "nbformat": 4,
  "nbformat_minor": 5
}
