{
 "cells": [
  {
   "cell_type": "markdown",
   "id": "3a307f3e-8e80-4755-8e44-4330c85eaac6",
   "metadata": {},
   "source": [
    "DICTIONARY"
   ]
  },
  {
   "cell_type": "code",
   "execution_count": null,
   "id": "885e3ec9-386b-4fbd-9575-ef2606d7c70d",
   "metadata": {},
   "outputs": [],
   "source": []
  },
  {
   "cell_type": "markdown",
   "id": "e8a3596f-acee-459b-8e17-45ed04e7c3e2",
   "metadata": {},
   "source": [
    "Question 1: What is a dictionary in Python and how do you create one?\n",
    "\n",
    "Answer:\n",
    "A dictionary is an unordered collection of key-value pairs. Keys must be unique and immutable (like strings, numbers, or tuples), \n",
    "while values can be of any data type.\n",
    "Dictionaries are defined by enclosing key-value pairs in curly braces {}."
   ]
  },
  {
   "cell_type": "code",
   "execution_count": 33,
   "id": "d56cf940-7034-4a68-9348-3b43a1a002e1",
   "metadata": {},
   "outputs": [
    {
     "name": "stdout",
     "output_type": "stream",
     "text": [
      "{'name': 'Alice', 'age': 25, 'city': 'New York'}\n",
      "{}\n",
      "{'name': 'Bob', 'age': 30, 'city': 'Los Angeles'}\n"
     ]
    }
   ],
   "source": [
    "# Creating a dictionary\n",
    "my_dict = {\"name\": \"Alice\", \"age\": 25, \"city\": \"New York\"}\n",
    "print(my_dict)  # Output: {'name': 'Alice', 'age': 25, 'city': 'New York'}\n",
    "\n",
    "# Creating an empty dictionary\n",
    "empty_dict = {}\n",
    "print(empty_dict)  # Output: {}\n",
    "\n",
    "# Using the dict() constructor\n",
    "another_dict = dict(name=\"Bob\", age=30, city=\"Los Angeles\")\n",
    "print(another_dict)  # Output: {'name': 'Bob', 'age': 30, 'city': 'Los Angeles'}\n"
   ]
  },
  {
   "cell_type": "code",
   "execution_count": null,
   "id": "2ece1191-6bde-4f15-981f-c77f3d2831bf",
   "metadata": {},
   "outputs": [],
   "source": []
  },
  {
   "cell_type": "code",
   "execution_count": null,
   "id": "92943e75-9d9d-4320-b9be-549540e82826",
   "metadata": {},
   "outputs": [],
   "source": []
  },
  {
   "cell_type": "markdown",
   "id": "f8fb1537-ef4d-4b51-baf9-a07deb0f81d7",
   "metadata": {},
   "source": [
    "Question 2: How do you access and modify values in a dictionary?\n",
    "\n",
    "Answer:\n",
    "You can access values in a dictionary using their keys and modify values by assigning new values to existing keys."
   ]
  },
  {
   "cell_type": "code",
   "execution_count": 37,
   "id": "446c2289-d36d-4318-9830-9f86fee0a837",
   "metadata": {},
   "outputs": [
    {
     "name": "stdout",
     "output_type": "stream",
     "text": [
      "Alice\n",
      "25\n",
      "{'name': 'Alice', 'age': 26, 'city': 'New York'}\n",
      "{'name': 'Alice', 'age': 26, 'city': 'New York', 'email': 'alice@example.com'}\n"
     ]
    }
   ],
   "source": [
    "my_dict = {\"name\": \"Alice\", \"age\": 25, \"city\": \"New York\"}\n",
    "\n",
    "# Accessing values\n",
    "print(my_dict[\"name\"])  # Output: Alice\n",
    "print(my_dict[\"age\"])   # Output: 25\n",
    "\n",
    "# Modifying values\n",
    "my_dict[\"age\"] = 26\n",
    "print(my_dict)  # Output: {'name': 'Alice', 'age': 26, 'city': 'New York'}\n",
    "\n",
    "# Adding a new key-value pair\n",
    "my_dict[\"email\"] = \"alice@example.com\"\n",
    "print(my_dict)  # Output: {'name': 'Alice', 'age': 26, 'city': 'New York', 'email': 'alice@example.com'}\n"
   ]
  },
  {
   "cell_type": "code",
   "execution_count": null,
   "id": "02fe5326-ac63-46f5-ad75-c6e48d1e23fd",
   "metadata": {},
   "outputs": [],
   "source": []
  },
  {
   "cell_type": "markdown",
   "id": "a0d19779-0d9e-4d7e-a6d9-7b1b8440a720",
   "metadata": {},
   "source": [
    "Question 3: How do you remove elements from a dictionary?\n",
    "\n",
    "Answer:\n",
    "You can remove elements from a dictionary using the del statement, pop() method, or popitem() method."
   ]
  },
  {
   "cell_type": "code",
   "execution_count": 39,
   "id": "34efae32-3c83-4323-a848-0a4198c99890",
   "metadata": {},
   "outputs": [
    {
     "name": "stdout",
     "output_type": "stream",
     "text": [
      "{'name': 'Alice', 'city': 'New York'}\n",
      "No email key\n",
      "{'name': 'Alice', 'city': 'New York'}\n",
      "('city', 'New York')\n",
      "{'name': 'Alice'}\n"
     ]
    }
   ],
   "source": [
    "my_dict = {\"name\": \"Alice\", \"age\": 25, \"city\": \"New York\"}\n",
    "\n",
    "# Removing an element using del\n",
    "del my_dict[\"age\"]\n",
    "print(my_dict)  # Output: {'name': 'Alice', 'city': 'New York'}\n",
    "\n",
    "# Removing an element using pop()\n",
    "email = my_dict.pop(\"email\", \"No email key\")\n",
    "print(email)    # Output: No email key (because \"email\" key doesn't exist)\n",
    "print(my_dict)  # Output: {'name': 'Alice', 'city': 'New York'}\n",
    "\n",
    "# Removing the last inserted key-value pair using popitem()\n",
    "item = my_dict.popitem()\n",
    "print(item)     # Output: ('city', 'New York')\n",
    "print(my_dict)  # Output: {'name': 'Alice'}\n"
   ]
  },
  {
   "cell_type": "code",
   "execution_count": null,
   "id": "fa7d0917-85d9-4a26-9173-35244fd3c3bf",
   "metadata": {},
   "outputs": [],
   "source": []
  },
  {
   "cell_type": "markdown",
   "id": "c9f5accd-a674-4463-b24d-41888b5042f5",
   "metadata": {},
   "source": [
    "Question 4: How do you iterate over keys, values, or key-value pairs in a dictionary?\n",
    "\n",
    "Answer:\n",
    "You can iterate over keys, values, or key-value pairs using the keys(), values(), and items() methods respectively."
   ]
  },
  {
   "cell_type": "code",
   "execution_count": 41,
   "id": "e0fe2d2c-20cf-4171-8df5-adc1de8ad3f5",
   "metadata": {},
   "outputs": [
    {
     "name": "stdout",
     "output_type": "stream",
     "text": [
      "name\n",
      "age\n",
      "city\n",
      "Alice\n",
      "25\n",
      "New York\n",
      "name Alice\n",
      "age 25\n",
      "city New York\n"
     ]
    }
   ],
   "source": [
    "my_dict = {\"name\": \"Alice\", \"age\": 25, \"city\": \"New York\"}\n",
    "\n",
    "# Iterating over keys\n",
    "for key in my_dict.keys():\n",
    "    print(key)\n",
    "# Output:\n",
    "# name\n",
    "# age\n",
    "# city\n",
    "\n",
    "# Iterating over values\n",
    "for value in my_dict.values():\n",
    "    print(value)\n",
    "# Output:\n",
    "# Alice\n",
    "# 25\n",
    "# New York\n",
    "\n",
    "# Iterating over key-value pairs\n",
    "for key, value in my_dict.items():\n",
    "    print(key, value)\n",
    "# Output:\n",
    "# name Alice\n",
    "# age 25\n",
    "# city New York\n"
   ]
  },
  {
   "cell_type": "code",
   "execution_count": null,
   "id": "7350134c-4eff-4a27-b339-3c5d8e5a7ec6",
   "metadata": {},
   "outputs": [],
   "source": []
  },
  {
   "cell_type": "markdown",
   "id": "da30639d-6e11-4845-aeda-ae0488d92a51",
   "metadata": {},
   "source": [
    "Question 5: How do you check for the existence of keys and get the length of a dictionary?\n",
    "\n",
    "Answer:\n",
    "You can check if a key exists in a dictionary using the in keyword and find the length of a dictionary using the len() function."
   ]
  },
  {
   "cell_type": "code",
   "execution_count": null,
   "id": "f5a5d769-757f-4bdd-9e55-3d3c58efd28a",
   "metadata": {},
   "outputs": [],
   "source": []
  }
 ],
 "metadata": {
  "kernelspec": {
   "display_name": "Python 3 (ipykernel)",
   "language": "python",
   "name": "python3"
  },
  "language_info": {
   "codemirror_mode": {
    "name": "ipython",
    "version": 3
   },
   "file_extension": ".py",
   "mimetype": "text/x-python",
   "name": "python",
   "nbconvert_exporter": "python",
   "pygments_lexer": "ipython3",
   "version": "3.11.7"
  }
 },
 "nbformat": 4,
 "nbformat_minor": 5
}
