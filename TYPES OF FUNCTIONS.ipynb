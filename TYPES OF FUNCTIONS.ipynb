{
  "cells": [
    {
      "cell_type": "markdown",
      "metadata": {},
      "source": [
        "Question 1: What are the different types of functions in Python?\n",
        "\n",
        "Answer:\n",
        "In Python, functions can be broadly categorized into the following types:\n",
        "1. Built-in Functions\n",
        "2. User-defined Functions\n",
        "3. Lambda Functions\n",
        "4. Recursive Functions\n",
        "5. Higher-order Functions"
      ]
    },
    {
      "cell_type": "markdown",
      "metadata": {},
      "source": [
        "Question 2: What are built-in functions?\n",
        "\n",
        "Answer:\n",
        "Built-in functions are pre-defined functions provided by Python. \n",
        "They are always available for use and do not require any import statement.\n",
        "Examples of built-in functions include `len()`, `print()`, `max()`, `min()`, `type()`, etc."
      ]
    },
    {
      "cell_type": "code",
      "execution_count": 1,
      "metadata": {},
      "outputs": [
        {
          "name": "stdout",
          "output_type": "stream",
          "text": [
            "3\n",
            "Hello, World!\n",
            "9\n",
            "3\n",
            "<class 'str'>\n"
          ]
        }
      ],
      "source": [
        "# Examples of built-in functions\n",
        "print(len('abc'))  # Output: 3\n",
        "print('Hello, World!')  # Output: Hello, World!\n",
        "print(max([1, 3, 9]))  # Output: 9\n",
        "print(min([1, 3, 9]))  # Output: 1\n",
        "print(type('abc'))  # Output: <class 'str'>"
      ]
    },
    {
      "cell_type": "markdown",
      "metadata": {},
      "source": [
        "Question 3: What are user-defined functions?\n",
        "\n",
        "Answer:\n",
        "User-defined functions are functions that are defined by users to perform specific tasks. \n",
        "They are defined using the `def` keyword followed by the function name and parentheses (which may include parameters)."
      ]
    },
    {
      "cell_type": "code",
      "execution_count": 2,
      "metadata": {},
      "outputs": [
        {
          "name": "stdout",
          "output_type": "stream",
          "text": [
            "Hello, Alice!\n",
            "15\n"
          ]
        }
      ],
      "source": [
        "# Example of user-defined functions\n",
        "def greet(name):\n",
        "    print(f'Hello, {name}!')\n",
        "\n",
        "def add(a, b):\n",
        "    return a + b\n",
        "\n",
        "# Calling the functions\n",
        "greet('Alice')  # Output: Hello, Alice!\n",
        "print(add(10, 5))  # Output: 15"
      ]
    },
    {
      "cell_type": "markdown",
      "metadata": {},
      "source": [
        "Question 4: What are lambda functions?\n",
        "\n",
        "Answer:\n",
        "Lambda functions are small anonymous functions defined using the `lambda` keyword. \n",
        "They can have any number of arguments but only one expression. \n",
        "Lambda functions are often used for short, throwaway functions."
      ]
    },
    {
      "cell_type": "code",
      "execution_count": 3,
      "metadata": {},
      "outputs": [
        {
          "name": "stdout",
          "output_type": "stream",
          "text": [
            "16\n",
            "25\n"
          ]
        }
      ],
      "source": [
        "# Example of lambda functions\n",
        "square = lambda x: x ** 2\n",
        "print(square(4))  # Output: 16\n",
        "\n",
        "add = lambda a, b: a + b\n",
        "print(add(10, 15))  # Output: 25"
      ]
    },
    {
      "cell_type": "markdown",
      "metadata": {},
      "source": [
        "Question 5: What are recursive functions?\n",
        "\n",
        "Answer:\n",
        "Recursive functions are functions that call themselves in order to solve a problem. \n",
        "They have a base case to terminate the recursion and a recursive case to continue the recursion."
      ]
    },
    {
      "cell_type": "code",
      "execution_count": 4,
      "metadata": {},
      "outputs": [
        {
          "name": "stdout",
          "output_type": "stream",
          "text": [
            "120\n",
            "8\n"
          ]
        }
      ],
      "source": [
        "# Example of recursive functions\n",
        "def factorial(n):\n",
        "    if n == 1:\n",
        "        return 1\n",
        "    else:\n",
        "        return n * factorial(n - 1)\n",
        "\n",
        "def power(base, exp):\n",
        "    if exp == 0:\n",
        "        return 1\n",
        "    else:\n",
        "        return base * power(base, exp - 1)\n",
        "\n",
        "# Calling the functions\n",
        "print(factorial(5))  # Output: 120\n",
        "print(power(2, 3))  # Output: 8"
      ]
    },
    {
      "cell_type": "markdown",
      "metadata": {},
      "source": [
        "Question 6: What are higher-order functions?\n",
        "\n",
        "Answer:\n",
        "Higher-order functions are functions that can take other functions as arguments or return them as results. \n",
        "Examples of higher-order functions include `map()`, `filter()`, and `reduce()`."
      ]
    },
    {
      "cell_type": "code",
      "execution_count": 5,
      "metadata": {},
      "outputs": [
        {
          "name": "stdout",
          "output_type": "stream",
          "text": [
            "[1, 4, 9, 16]\n",
            "[2, 4]\n",
            "10\n"
          ]
        }
      ],
      "source": [
        "# Example of higher-order functions\n",
        "nums = [1, 2, 3, 4]\n",
        "squared = list(map(lambda x: x ** 2, nums))\n",
        "print(squared)  # Output: [1, 4, 9, 16]\n",
        "\n",
        "even = list(filter(lambda x: x % 2 == 0, nums))\n",
        "print(even)  # Output: [2, 4]\n",
        "\n",
        "from functools import reduce\n",
        "sum_nums = reduce(lambda x, y: x + y, nums)\n",
        "print(sum_nums)  # Output: 10"
      ]
    }
  ],
  "metadata": {
    "kernelspec": {
      "display_name": "Python 3 (ipykernel)",
      "language": "python",
      "name": "python3"
    },
    "language_info": {
      "codemirror_mode": {
        "name": "ipython",
        "version": 3
      },
      "file_extension": ".py",
      "mimetype": "text/x-python",
      "name": "python",
      "nbconvert_exporter": "python",
      "pygments_lexer": "ipython3",
      "version": "3.11.7"
    }
  },
  "nbformat": 4,
  "nbformat_minor": 5
}
