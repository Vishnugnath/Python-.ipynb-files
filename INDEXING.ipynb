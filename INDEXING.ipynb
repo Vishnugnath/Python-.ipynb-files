{
  "cells": [
    {
      "cell_type": "markdown",
      "metadata": {},
      "source": [
        "Question 1: What is indexing in Python?\n",
        "\n",
        "Answer:\n",
        "Indexing is a way to access individual elements within an iterable (such as a list, tuple, or string) using their position (index) within the iterable. \n",
        "Indices are zero-based, meaning the first element has an index of 0, the second element has an index of 1, and so on."
      ]
    },
    {
      "cell_type": "code",
      "execution_count": 1,
      "metadata": {},
      "outputs": [
        {
          "name": "stdout",
          "output_type": "stream",
          "text": [
            "a\n",
            "c\n"
          ]
        }
      ],
      "source": [
        "# Example of indexing in a string\n",
        "my_string = 'abc'\n",
        "print(my_string[0])  # Output: 'a'\n",
        "print(my_string[2])  # Output: 'c'"
      ]
    },
    {
      "cell_type": "markdown",
      "metadata": {},
      "source": [
        "Question 2: How do you use negative indexing?\n",
        "\n",
        "Answer:\n",
        "Negative indexing allows you to access elements from the end of the iterable. \n",
        "The last element has an index of -1, the second last element has an index of -2, and so on."
      ]
    },
    {
      "cell_type": "code",
      "execution_count": 2,
      "metadata": {},
      "outputs": [
        {
          "name": "stdout",
          "output_type": "stream",
          "text": [
            "c\n",
            "a\n"
          ]
        }
      ],
      "source": [
        "# Example of negative indexing in a string\n",
        "my_string = 'abc'\n",
        "print(my_string[-1])  # Output: 'c'\n",
        "print(my_string[-3])  # Output: 'a'"
      ]
    },
    {
      "cell_type": "markdown",
      "metadata": {},
      "source": [
        "Question 3: How do you index a list of lists (2D list)?\n",
        "\n",
        "Answer:\n",
        "You can access elements in a list of lists (2D list) by using two indices. \n",
        "The first index accesses the outer list, and the second index accesses the inner list."
      ]
    },
    {
      "cell_type": "code",
      "execution_count": 3,
      "metadata": {},
      "outputs": [
        {
          "name": "stdout",
          "output_type": "stream",
          "text": [
            "2\n",
            "5\n"
          ]
        }
      ],
      "source": [
        "# Example of indexing in a 2D list\n",
        "matrix = [\n",
        "    [1, 2, 3],\n",
        "    [4, 5, 6],\n",
        "    [7, 8, 9]\n",
        "]\n",
        "print(matrix[0][1])  # Output: 2\n",
        "print(matrix[1][1])  # Output: 5"
      ]
    },
    {
      "cell_type": "markdown",
      "metadata": {},
      "source": [
        "Question 4: How do you use slicing with indexing?\n",
        "\n",
        "Answer:\n",
        "Slicing allows you to access a range of elements in an iterable using the colon (`:`) operator. \n",
        "The syntax is `start:stop:step`, where `start` is the index to start from, `stop` is the index to end at (exclusive), and `step` is the increment (default is 1)."
      ]
    },
    {
      "cell_type": "code",
      "execution_count": 4,
      "metadata": {},
      "outputs": [
        {
          "name": "stdout",
          "output_type": "stream",
          "text": [
            "['b', 'c']\n",
            "['a', 'c']\n",
            "['c', 'a']\n"
          ]
        }
      ],
      "source": [
        "# Example of slicing in a list\n",
        "my_list = ['a', 'b', 'c', 'd', 'e']\n",
        "print(my_list[1:3])  # Output: ['b', 'c']\n",
        "print(my_list[0:3:2])  # Output: ['a', 'c']\n",
        "print(my_list[::-2])  # Output: ['e', 'c', 'a']"
      ]
    },
    {
      "cell_type": "markdown",
      "metadata": {},
      "source": [
        "Question 5: How do you handle out-of-range indexing?\n",
        "\n",
        "Answer:\n",
        "Accessing an index that is out of range in a list, tuple, or string will raise an `IndexError`. \n",
        "You can handle this using a try-except block to catch the exception and handle it appropriately."
      ]
    },
    {
      "cell_type": "code",
      "execution_count": 5,
      "metadata": {},
      "outputs": [
        {
          "name": "stdout",
          "output_type": "stream",
          "text": [
            "Index is out of range\n"
          ]
        }
      ],
      "source": [
        "# Example of handling out-of-range indexing\n",
        "my_list = ['a', 'b', 'c']\n",
        "try:\n",
        "    print(my_list[5])\n",
        "except IndexError:\n",
        "    print('Index is out of range')"
      ]
    }
  ],
  "metadata": {
    "kernelspec": {
      "display_name": "Python 3 (ipykernel)",
      "language": "python",
      "name": "python3"
    },
    "language_info": {
      "codemirror_mode": {
        "name": "ipython",
        "version": 3
      },
      "file_extension": ".py",
      "mimetype": "text/x-python",
        "name": "python",
        "nbconvert_exporter": "python",
        "pygments_lexer": "ipython3",
        "version": "3.11.7"
    }
  },
  "nbformat": 4,
  "nbformat_minor": 5
}
