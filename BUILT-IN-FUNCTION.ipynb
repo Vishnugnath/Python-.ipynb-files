{
  "cells": [
    {
      "cell_type": "markdown",
      "metadata": {},
      "source": [
        "Question 1: What are built-in functions in Python?\n",
        "\n",
        "Answer:\n",
        "Built-in functions are pre-defined functions provided by Python. They are always available for use and do not require any import statement. Examples of built-in functions include `len()`, `print()`, `max()`, `min()`, `type()`, etc."
      ]
    },
    {
      "cell_type": "code",
      "execution_count": 1,
      "metadata": {},
      "outputs": [
        {
          "name": "stdout",
          "output_type": "stream",
          "text": [
            "3\n",
            "Hello, World!\n",
            "9\n",
            "1\n",
            "<class 'str'>\n"
          ]
        }
      ],
      "source": [
        "# Examples of built-in functions\n",
        "print(len('abc'))  # Output: 3\n",
        "print('Hello, World!')  # Output: Hello, World!\n",
        "print(max([1, 3, 9]))  # Output: 9\n",
        "print(min([1, 3, 9]))  # Output: 1\n",
        "print(type('abc'))  # Output: <class 'str'>"
      ]
    },
    {
      "cell_type": "markdown",
      "metadata": {},
      "source": [
        "Question 2: How does the `len()` function work?\n",
        "\n",
        "Answer:\n",
        "The `len()` function returns the number of items in an object. The object can be a sequence (such as a string, tuple, list, or range) or a collection (such as a dictionary, set, or frozen set)."
      ]
    },
    {
      "cell_type": "code",
      "execution_count": 2,
      "metadata": {},
      "outputs": [
        {
          "name": "stdout",
          "output_type": "stream",
          "text": [
            "3\n",
            "5\n",
            "4\n",
            "2\n"
          ]
        }
      ],
      "source": [
        "# Examples of len() function\n",
        "print(len('abc'))  # Output: 3\n",
        "print(len([1, 2, 3, 4, 5]))  # Output: 5\n",
        "print(len((1, 2, 3, 4)))  # Output: 4\n",
        "print(len({'a': 1, 'b': 2}))  # Output: 2"
      ]
    },
    {
      "cell_type": "markdown",
      "metadata": {},
      "source": [
        "Question 3: How does the `max()` function work?\n",
        "\n",
        "Answer:\n",
        "The `max()` function returns the largest item in an iterable or the largest of two or more arguments."
      ]
    },
    {
      "cell_type": "code",
      "execution_count": 3,
      "metadata": {},
      "outputs": [
        {
          "name": "stdout",
          "output_type": "stream",
          "text": [
            "5\n",
            "9\n",
            "'c'\n"
          ]
        }
      ],
      "source": [
        "# Examples of max() function\n",
        "print(max(1, 2, 3, 4, 5))  # Output: 5\n",
        "print(max([1, 3, 9, 2]))  # Output: 9\n",
        "print(max('a', 'b', 'c'))  # Output: 'c'"
      ]
    },
    {
      "cell_type": "markdown",
      "metadata": {},
      "source": [
        "Question 4: How does the `min()` function work?\n",
        "\n",
        "Answer:\n",
        "The `min()` function returns the smallest item in an iterable or the smallest of two or more arguments."
      ]
    },
    {
      "cell_type": "code",
      "execution_count": 4,
      "metadata": {},
      "outputs": [
        {
          "name": "stdout",
          "output_type": "stream",
          "text": [
            "1\n",
            "1\n",
            "'a'\n"
          ]
        }
      ],
      "source": [
        "# Examples of min() function\n",
        "print(min(1, 2, 3, 4, 5))  # Output: 1\n",
        "print(min([1, 3, 9, 2]))  # Output: 1\n",
        "print(min('a', 'b', 'c'))  # Output: 'a'"
      ]
    },
    {
      "cell_type": "markdown",
      "metadata": {},
      "source": [
        "Question 5: How does the `type()` function work?\n",
        "\n",
        "Answer:\n",
        "The `type()` function returns the type of an object. It can also be used to create new types dynamically."
      ]
    },
    {
      "cell_type": "code",
      "execution_count": 5,
      "metadata": {},
      "outputs": [
        {
          "name": "stdout",
          "output_type": "stream",
          "text": [
            "<class 'str'>\n",
            "<class 'int'>\n",
            "<class 'list'>\n",
            "<class 'dict'>\n"
          ]
        }
      ],
      "source": [
        "# Examples of type() function\n",
        "print(type('abc'))  # Output: <class 'str'>\n",
        "print(type(123))  # Output: <class 'int'>\n",
        "print(type([1, 2, 3]))  # Output: <class 'list'>\n",
        "print(type({'a': 1, 'b': 2}))  # Output: <class 'dict'>"
      ]
    }
  ],
  "metadata": {
    "kernelspec": {
      "display_name": "Python 3 (ipykernel)",
      "language": "python",
      "name": "python3"
    },
    "language_info": {
      "codemirror_mode": {
        "name": "ipython",
        "version": 3
      },
      "file_extension": ".py",
      "mimetype": "text/x-python",
      "name": "python",
      "nbconvert_exporter": "python",
      "pygments_lexer": "ipython3",
      "version": "3.11.7"
    }
  },
  "nbformat": 4,
  "nbformat_minor": 5
}
