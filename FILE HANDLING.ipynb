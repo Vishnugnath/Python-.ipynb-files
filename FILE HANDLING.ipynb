{
  "cells": [
    {
      "cell_type": "markdown",
      "metadata": {},
      "source": [
        "### Question 1: How do you open a file in Python?\n",
        "\n",
        "**Answer:**\n",
        "In Python, you can open a file using the `open()` function. This function takes two arguments: the file path and the mode in which to open the file. Common modes include:\n",
        "- `'r'` for reading (default)\n",
        "- `'w'` for writing (creates a new file or truncates an existing file)\n",
        "- `'a'` for appending (adds to the end of the file)\n",
        "- `'b'` for binary mode\n"
      ]
    },
    {
      "cell_type": "code",
      "execution_count": 1,
      "metadata": {},
      "outputs": [],
      "source": [
        "# Opening a file in read mode\n",
        "file = open('example.txt', 'r')\n",
        "print(file.read())\n",
        "file.close()  # Always close the file after operations\n"
      ]
    },
    {
      "cell_type": "markdown",
      "metadata": {},
      "source": [
        "### Question 2: How do you write to a file in Python?\n",
        "\n",
        "**Answer:**\n",
        "You can write to a file by opening it in write (`'w'`) or append (`'a'`) mode using the `open()` function. Use the `write()` or `writelines()` methods to write data to the file. After writing, remember to close the file to ensure data is saved and resources are released."
      ]
    },
    {
      "cell_type": "code",
      "execution_count": 2,
      "metadata": {},
      "outputs": [],
      "source": [
        "# Writing to a file\n",
        "file = open('example.txt', 'w')\n",
        "file.write('Hello, world!')\n",
        "file.close()\n",
        "\n",
        "# Appending to a file\n",
        "file = open('example.txt', 'a')\n",
        "file.write('\\nAppended text.')\n",
        "file.close()\n"
      ]
    },
    {
      "cell_type": "markdown",
      "metadata": {},
      "source": [
        "### Question 3: How do you read a file line by line?\n",
        "\n",
        "**Answer:**\n",
        "You can read a file line by line using a loop. Use the `readline()` method to read one line at a time or `readlines()` to read all lines into a list. Iterating over the file object also reads the file line by line."
      ]
    },
    {
      "cell_type": "code",
      "execution_count": 3,
      "metadata": {},
      "outputs": [],
      "source": [
        "# Reading a file line by line\n",
        "file = open('example.txt', 'r')\n",
        "for line in file:\n",
        "    print(line.strip())  # `strip()` removes trailing newline characters\n",
        "file.close()\n"
      ]
    },
    {
      "cell_type": "markdown",
      "metadata": {},
      "source": [
        "### Question 4: How do you handle file exceptions in Python?\n",
        "\n",
        "**Answer:**\n",
        "To handle file exceptions, use `try` and `except` blocks. Common exceptions include `FileNotFoundError` (if the file does not exist) and `IOError` (for issues related to file I/O operations). This ensures your program can handle errors gracefully."
      ]
    },
    {
      "cell_type": "code",
      "execution_count": 4,
      "metadata": {},
      "outputs": [],
      "source": [
        "# Handling file exceptions\n",
        "try:\n",
        "    file = open('nonexistent_file.txt', 'r')\n",
        "    print(file.read())\n",
        "except FileNotFoundError:\n",
        "    print('File not found. Please check the file path.')\n",
        "except IOError:\n",
        "    print('An IOError occurred. Please check your file operations.')\n",
        "finally:\n",
        "    if 'file' in locals() and not file.closed:\n",
        "        file.close()\n"
      ]
    },
    {
      "cell_type": "markdown",
      "metadata": {},
      "source": [
        "### Question 5: How do you use the `with` statement for file handling?\n",
        "\n",
        "**Answer:**\n",
        "The `with` statement simplifies file handling by automatically closing the file after its suite finishes, even if an exception is raised. This is considered best practice for file operations to ensure resources are properly managed."
      ]
    },
    {
      "cell_type": "code",
      "execution_count": 5,
      "metadata": {},
      "outputs": [],
      "source": [
        "# Using the `with` statement for file handling\n",
        "with open('example.txt', 'r') as file:\n",
        "    content = file.read()\n",
        "    print(content)\n"
      ]
    },
    {
      "cell_type": "markdown",
      "metadata": {},
      "source": [
        "### Question 6: How can you handle binary files?\n",
        "\n",
        "**Answer:**\n",
        "To handle binary files, open the file in binary mode by appending `'b'` to the mode string (e.g., `'rb'` for reading binary or `'wb'` for writing binary). Use methods like `read()`, `write()`, and `seek()` to manage binary data."
      ]
    },
    {
      "cell_type": "code",
      "execution_count": 6,
      "metadata": {},
      "outputs": [],
      "source": [
        "# Handling binary files\n",
        "with open('example.bin', 'wb') as file:\n",
        "    file.write(b'Binary data here')\n",
        "\n",
        "with open('example.bin', 'rb') as file:\n",
        "    binary_data = file.read()\n",
        "    print(binary_data)\n"
      ]
    }
  ],
  "metadata": {
    "kernelspec": {
      "display_name": "Python 3 (ipykernel)",
      "language": "python",
      "name": "python3"
    },
    "language_info": {
      "codemirror_mode": {
        "name": "ipython",
        "version": 3
      },
      "file_extension": ".py",
      "mimetype": "text/x-python",
      "name": "python",
      "nbconvert_exporter": "python",
      "pygments_lexer": "ipython3",
      "version": "3.11.7"
    }
  },
  "nbformat": 4,
  "nbformat_minor": 5
}
