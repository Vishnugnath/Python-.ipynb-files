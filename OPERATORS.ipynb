{
  "cells": [
    {
      "cell_type": "markdown",
      "metadata": {},
      "source": [
        "Question 1: What are arithmetic operators in Python?\n",
        "\n",
        "Answer:\n",
        "Arithmetic operators are used to perform mathematical operations such as addition, subtraction, multiplication, and division. The basic arithmetic operators are `+`, `-`, `*`, `/`, `//`, `%`, and `**`."
      ]
    },
    {
      "cell_type": "code",
      "execution_count": 1,
      "metadata": {},
      "outputs": [
        {
          "name": "stdout",
          "output_type": "stream",
          "text": [
            "Addition: 7\n",
            "Subtraction: 2\n",
            "Multiplication: 15\n",
            "Division: 2.0\n",
            "Floor Division: 2\n",
            "Modulus: 2\n",
            "Exponentiation: 49\n"
          ]
        }
      ],
      "source": [
        "# Examples of arithmetic operators\n",
        "a = 5\n",
        "b = 2\n",
        "\n",
        "addition = a + b\n",
        "subtraction = a - b\n",
        "multiplication = a * b\n",
        "division = a / b\n",
        "floor_division = a // b\n",
        "modulus = a % b\n",
        "exponentiation = a ** b\n",
        "\n",
        "print(f\"Addition: {addition}\")\n",
        "print(f\"Subtraction: {subtraction}\")\n",
        "print(f\"Multiplication: {multiplication}\")\n",
        "print(f\"Division: {division}\")\n",
        "print(f\"Floor Division: {floor_division}\")\n",
        "print(f\"Modulus: {modulus}\")\n",
        "print(f\"Exponentiation: {exponentiation}\")"
      ]
    },
    {
      "cell_type": "markdown",
      "metadata": {},
      "source": [
        "Question 2: What are comparison operators in Python?\n",
        "\n",
        "Answer:\n",
        "Comparison operators are used to compare two values. They return `True` or `False` based on the comparison. The basic comparison operators are `==`, `!=`, `>`, `<`, `>=`, and `<=`."
      ]
    },
    {
      "cell_type": "code",
      "execution_count": 2,
      "metadata": {},
      "outputs": [
        {
          "name": "stdout",
          "output_type": "stream",
          "text": [
            "Equal: True\n",
            "Not Equal: False\n",
            "Greater Than: True\n",
            "Less Than: False\n",
            "Greater Than or Equal: True\n",
            "Less Than or Equal: False\n"
          ]
        }
      ],
      "source": [
        "# Examples of comparison operators\n",
        "x = 10\n",
        "y = 5\n",
        "\n",
        "equal = (x == y)\n",
        "not_equal = (x != y)\n",
        "greater_than = (x > y)\n",
        "less_than = (x < y)\n",
        "greater_than_or_equal = (x >= y)\n",
        "less_than_or_equal = (x <= y)\n",
        "\n",
        "print(f\"Equal: {equal}\")\n",
        "print(f\"Not Equal: {not_equal}\")\n",
        "print(f\"Greater Than: {greater_than}\")\n",
        "print(f\"Less Than: {less_than}\")\n",
        "print(f\"Greater Than or Equal: {greater_than_or_equal}\")\n",
        "print(f\"Less Than or Equal: {less_than_or_equal}\")"
      ]
    },
    {
      "cell_type": "markdown",
      "metadata": {},
      "source": [
        "Question 3: What are logical operators in Python?\n",
        "\n",
        "Answer:\n",
        "Logical operators are used to combine conditional statements. The basic logical operators are `and`, `or`, and `not`."
      ]
    },
    {
      "cell_type": "code",
      "execution_count": 3,
      "metadata": {},
      "outputs": [
        {
          "name": "stdout",
          "output_type": "stream",
          "text": [
            "And: True\n",
            "Or: True\n",
            "Not: False\n"
          ]
        }
      ],
      "source": [
        "# Examples of logical operators\n",
        "a = True\n",
        "b = False\n",
        "\n",
        "logical_and = (a and b)\n",
        "logical_or = (a or b)\n",
        "logical_not = (not a)\n",
        "\n",
        "print(f\"And: {logical_and}\")\n",
        "print(f\"Or: {logical_or}\")\n",
        "print(f\"Not: {logical_not}\")"
      ]
    },
    {
      "cell_type": "markdown",
      "metadata": {},
      "source": [
        "Question 4: What are assignment operators in Python?\n",
        "\n",
        "Answer:\n",
        "Assignment operators are used to assign values to variables. The basic assignment operators include `=`, `+=`, `-=`, `*=`, `/=`, `//=`, `%=` and `**=`."
      ]
    },
    {
      "cell_type": "code",
      "execution_count": 4,
      "metadata": {},
      "outputs": [
        {
          "name": "stdout",
          "output_type": "stream",
          "text": [
            "Initial value: 10\n",
            "After +=: 15\n",
            "After -=: 10\n",
            "After *=: 20\n",
            "After /=: 10.0\n",
            "After //=: 5\n",
            "After %=: 0\n",
            "After **=: 10000000000\n"
          ]
        }
      ],
      "source": [
        "# Examples of assignment operators\n",
        "value = 10\n",
        "\n",
        "value += 5  # equivalent to value = value + 5\n",
        "print(f\"After +=: {value}\")\n",
        "value -= 5  # equivalent to value = value - 5\n",
        "print(f\"After -=: {value}\")\n",
        "value *= 2  # equivalent to value = value * 2\n",
        "print(f\"After *=: {value}\")\n",
        "value /= 2  # equivalent to value = value / 2\n",
        "print(f\"After /=: {value}\")\n",
        "value //= 2  # equivalent to value = value // 2\n",
        "print(f\"After //=: {value}\")\n",
        "value %= 2  # equivalent to value = value % 2\n",
        "print(f\"After %=: {value}\")\n",
        "value **= 10  # equivalent to value = value ** 10\n",
        "print(f\"After **=: {value}\")"
      ]
    },
    {
      "cell_type": "markdown",
      "metadata": {},
      "source": [
        "Question 5: What are bitwise operators in Python?\n",
        "\n",
        "Answer:\n",
        "Bitwise operators perform operations on binary representations of numbers. The basic bitwise operators are `&`, `|`, `^`, `~`, `<<`, and `>>`."
      ]
    },
    {
      "cell_type": "code",
      "execution_count": 5,
      "metadata": {},
      "outputs": [
        {
          "name": "stdout",
          "output_type": "stream",
          "text": [
            "Bitwise AND: 0\n",
            "Bitwise OR: 7\n",
            "Bitwise XOR: 7\n",
            "Bitwise NOT: -6\n",
            "Bitwise Left Shift: 20\n",
            "Bitwise Right Shift: 1\n"
          ]
        }
      ],
      "source": [
        "# Examples of bitwise operators\n",
        "x = 5  # Binary: 0101\n",
        "y = 3  # Binary: 0011\n",
        "\n",
        "bitwise_and = x & y\n",
        "bitwise_or = x | y\n",
        "bitwise_xor = x ^ y\n",
        "bitwise_not = ~x\n",
        "bitwise_left_shift = x << 2\n",
        "bitwise_right_shift = x >> 2\n",
        "\n",
        "print(f\"Bitwise AND: {bitwise_and}\")\n",
        "print(f\"Bitwise OR: {bitwise_or}\")\n",
        "print(f\"Bitwise XOR: {bitwise_xor}\")\n",
        "print(f\"Bitwise NOT: {bitwise_not}\")\n",
        "print(f\"Bitwise Left Shift: {bitwise_left_shift}\")\n",
        "print(f\"Bitwise Right Shift: {bitwise_right_shift}\")"
      ]
    },
    {
      "cell_type": "markdown",
      "metadata": {},
      "source": [
        "Question 6: What are identity operators in Python?\n",
        "\n",
        "Answer:\n",
        "Identity operators are used to compare the memory locations of two objects. The basic identity operators are `is` and `is not`."
      ]
    },
    {
      "cell_type": "code",
      "execution_count": 6,
      "metadata": {},
      "outputs": [
        {
          "name": "stdout",
          "output_type": "stream",
          "text": [
            "Is: True\n",
            "Is Not: False\n"
          ]
        }
      ],
      "source": [
        "# Examples of identity operators\n",
        "a = [1, 2, 3]\n",
        "b = a\n",
        "c = [1, 2, 3]\n",
        "\n",
        "is_operator = (a is b)\n",
        "is_not_operator = (a is not c)\n",
        "\n",
        "print(f\"Is: {is_operator}\")\n",
        "print(f\"Is Not: {is_not_operator}\")"
      ]
    },
    {
      "cell_type": "markdown",
      "metadata": {},
      "source": [
        "Question 7: What are membership operators in Python?\n",
        "\n",
        "Answer:\n",
        "Membership operators are used to test if a value or variable is found in a sequence. The basic membership operators are `in` and `not in`."
      ]
    },
    {
      "cell_type": "code",
      "execution_count": 7,
      "metadata": {},
      "outputs": [
        {
          "name": "stdout",
          "output_type": "stream",
          "text": [
            "In: True\n",
            "Not In: False\n"
          ]
        }
      ],
      "source": [
        "# Examples of membership operators\n",
        "numbers = [1, 2, 3, 4, 5]\n",
        "check_in = 3 in numbers\n",
        "check_not_in = 10 not in numbers\n",
        "\n",
        "print(f\"In: {check_in}\")\n",
        "print(f\"Not In: {check_not_in}\")"
      ]
    },
    {
      "cell_type": "markdown",
      "metadata": {},
      "source": [
        "Question 8: What are ternary operators in Python?\n",
        "\n",
        "Answer:\n",
        "Ternary operators are used to evaluate a condition and return a value based on the result. The basic syntax is `value_if_true if condition else value_if_false`."
      ]
    },
    {
      "cell_type": "code",
      "execution_count": 8,
      "metadata": {},
      "outputs": [
        {
          "name": "stdout",
          "output_type": "stream",
          "text": [
            "Ternary Operator Result: True\n"
          ]
        }
      ],
      "source": [
        "# Example of ternary operator\n",
        "age = 18\n",
        "status = \"Adult\" if age >= 18 else \"Minor\"\n",
        "\n",
        "print(f\"Ternary Operator Result: {status}\")"
      ]
    }
  ],
  "metadata": {
    "kernelspec": {
      "display_name": "Python 3 (ipykernel)",
      "language": "python",
      "name": "python3"
    },
    "language_info": {
      "codemirror_mode": {
        "name": "ipython",
        "version": 3
      },
      "file_extension": ".py",
      "mimetype": "text/x-python",
      "name": "python",
      "nbconvert_exporter": "python",
      "pygments_lexer": "ipython3",
      "version": "3.11.7"
    }
  },
  "nbformat": 4,
  "nbformat_minor": 5
}
