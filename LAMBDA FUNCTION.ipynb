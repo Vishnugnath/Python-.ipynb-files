{
  "cells": [
    {
      "cell_type": "markdown",
      "metadata": {},
      "source": [
        "Question 1: What is a lambda function in Python?\n",
        "\n",
        "Answer:\n",
        "A lambda function is a small anonymous function defined using the `lambda` keyword. \n",
        "It can have any number of arguments but only one expression. The expression is evaluated and returned."
      ]
    },
    {
      "cell_type": "code",
      "execution_count": 1,
      "metadata": {},
      "outputs": [
        {
          "name": "stdout",
          "output_type": "stream",
          "text": [
            "5\n"
          ]
        }
      ],
      "source": [
        "# Example of a simple lambda function\n",
        "add = lambda x, y: x + y\n",
        "print(add(2, 3))  # Output: 5"
      ]
    },
    {
      "cell_type": "markdown",
      "metadata": {},
      "source": [
        "Question 2: How do you use lambda functions with the `map()` function?\n",
        "\n",
        "Answer:\n",
        "The `map()` function applies a given function to all items in an input list (or any iterable) and returns a map object (an iterator). \n",
        "Lambda functions are often used with `map()` to apply a simple function to each element of a list."
      ]
    },
    {
      "cell_type": "code",
      "execution_count": 2,
      "metadata": {},
      "outputs": [
        {
          "name": "stdout",
          "output_type": "stream",
          "text": [
            "[1, 4, 9, 16, 25]\n"
          ]
        }
      ],
      "source": [
        "# Example of using lambda with map()\n",
        "numbers = [1, 2, 3, 4, 5]\n",
        "squares = list(map(lambda x: x**2, numbers))\n",
        "print(squares)  # Output: [1, 4, 9, 16, 25]"
      ]
    },
    {
      "cell_type": "markdown",
      "metadata": {},
      "source": [
        "Question 3: How do you use lambda functions with the `filter()` function?\n",
        "\n",
        "Answer:\n",
        "The `filter()` function constructs an iterator from elements of an iterable for which a function returns true. \n",
        "Lambda functions are often used with `filter()` to filter elements based on a condition."
      ]
    },
    {
      "cell_type": "code",
      "execution_count": 3,
      "metadata": {},
      "outputs": [
        {
          "name": "stdout",
          "output_type": "stream",
          "text": [
            "[2, 4, 6]\n"
          ]
        }
      ],
      "source": [
        "# Example of using lambda with filter()\n",
        "numbers = [1, 2, 3, 4, 5, 6]\n",
        "evens = list(filter(lambda x: x % 2 == 0, numbers))\n",
        "print(evens)  # Output: [2, 4, 6]"
      ]
    },
    {
      "cell_type": "markdown",
      "metadata": {},
      "source": [
        "Question 4: How do you use lambda functions with the `reduce()` function?\n",
        "\n",
        "Answer:\n",
        "The `reduce()` function from the `functools` module applies a rolling computation to sequential pairs of values in a list. \n",
        "Lambda functions are often used with `reduce()` to perform a cumulative operation on the list."
      ]
    },
    {
      "cell_type": "code",
      "execution_count": 4,
      "metadata": {},
      "outputs": [
        {
          "name": "stdout",
          "output_type": "stream",
          "text": [
            "15\n"
          ]
        }
      ],
      "source": [
        "# Example of using lambda with reduce()\n",
        "from functools import reduce\n",
        "numbers = [1, 2, 3, 4, 5]\n",
        "sum_numbers = reduce(lambda x, y: x + y, numbers)\n",
        "print(sum_numbers)  # Output: 15"
      ]
    },
    {
      "cell_type": "markdown",
      "metadata": {},
      "source": [
        "Question 5: How do you use lambda functions to sort a list of dictionaries?\n",
        "\n",
        "Answer:\n",
        "Lambda functions can be used as the key for sorting functions like `sorted()` and `list.sort()`. \n",
        "This is useful when sorting complex data structures such as lists of dictionaries."
      ]
    },
    {
      "cell_type": "code",
      "execution_count": 5,
      "metadata": {},
      "outputs": [
        {
          "name": "stdout",
          "output_type": "stream",
          "text": [
            "[{'name': 'John', 'age': 25}, {'name': 'Jane', 'age': 22}, {'name': 'Doe', 'age': 30}]\n",
            "[{'name': 'Jane', 'age': 22}, {'name': 'John', 'age': 25}, {'name': 'Doe', 'age': 30}]\n"
          ]
        }
      ],
      "source": [
        "# Example of using lambda to sort a list of dictionaries\n",
        "people = [\n",
        "    {'name': 'John', 'age': 25},\n",
        "    {'name': 'Jane', 'age': 22},\n",
        "    {'name': 'Doe', 'age': 30}\n",
        "]\n",
        "\n",
        "# Sorting by age\n",
        "sorted_people = sorted(people, key=lambda x: x['age'])\n",
        "print(sorted_people)\n",
        "\n",
        "# Sorting by name\n",
        "sorted_people = sorted(people, key=lambda x: x['name'])\n",
        "print(sorted_people)"
      ]
    }
  ],
  "metadata": {
    "kernelspec": {
      "display_name": "Python 3 (ipykernel)",
      "language": "python",
      "name": "python3"
    },
    "language_info": {
      "codemirror_mode": {
        "name": "ipython",
        "version": 3
      },
      "file_extension": ".py",
      "mimetype": "text/x-python",
      "name": "python",
      "nbconvert_exporter": "python",
      "pygments_lexer": "ipython3",
      "version": "3.11.7"
    }
  },
  "nbformat": 4,
  "nbformat_minor": 5
}
