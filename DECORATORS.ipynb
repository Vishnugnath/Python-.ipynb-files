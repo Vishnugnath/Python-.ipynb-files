{
  "cells": [
    {
      "cell_type": "markdown",
      "metadata": {},
      "source": [
        "### Question 1: What is a decorator in Python?\n",
        "\n",
        "**Answer:**\n",
        "A decorator is a function that takes another function or method as input and extends or alters its behavior without modifying the original function's code. Decorators are used to add functionality to existing functions or methods in a clean and reusable way."
      ]
    },
    {
      "cell_type": "code",
      "execution_count": 1,
      "metadata": {},
      "outputs": [],
      "source": [
        "# Basic example of a decorator\n",
        "def my_decorator(func):\n",
        "    def wrapper():\n",
        "        print('Something is happening before the function is called.')\n",
        "        func()\n",
        "        print('Something is happening after the function is called.')\n",
        "    return wrapper\n",
        "\n",
        "@my_decorator\n",
        "def say_hello():\n",
        "    print('Hello!')\n",
        "\n",
        "say_hello()\n"
      ]
    },
    {
      "cell_type": "markdown",
      "metadata": {},
      "source": [
        "### Question 2: How do you apply a decorator to a function?\n",
        "\n",
        "**Answer:**\n",
        "To apply a decorator to a function, use the `@decorator_name` syntax just above the function definition. This syntax is syntactic sugar for calling the decorator function and passing the original function as an argument."
      ]
    },
    {
      "cell_type": "code",
      "execution_count": 2,
      "metadata": {},
      "outputs": [
        {
          "name": "stdout",
          "output_type": "stream",
          "text": [
            "Something is happening before the function is called.\n",
            "Hello!\n",
            "Something is happening after the function is called.\n"
          ]
        }
      ],
      "source": [
        "# Output of the decorated function\n",
        "def say_hello():\n",
        "    print('Hello!')\n",
        "\n",
        "@my_decorator\n",
        "def say_hello_decorated():\n",
        "    print('Hello!')\n",
        "\n",
        "say_hello_decorated()\n"
      ]
    },
    {
      "cell_type": "markdown",
      "metadata": {},
      "source": [
        "### Question 3: Can decorators take arguments?\n",
        "\n",
        "**Answer:**\n",
        "Yes, decorators can take arguments. To create a decorator that accepts arguments, you need to define an additional outer function that takes the arguments and returns the actual decorator function."
      ]
    },
    {
      "cell_type": "code",
      "execution_count": 3,
      "metadata": {},
      "outputs": [],
      "source": [
        "# Decorator with arguments\n",
        "def repeat(times):\n",
        "    def decorator(func):\n",
        "        def wrapper(*args, **kwargs):\n",
        "            for _ in range(times):\n",
        "                func(*args, **kwargs)\n",
        "        return wrapper\n",
        "    return decorator\n",
        "\n",
        "@repeat(times=3)\n",
        "def greet(name):\n",
        "    print(f'Hello, {name}!')\n",
        "\n",
        "greet('Alice')\n"
      ]
    },
    {
      "cell_type": "markdown",
      "metadata": {},
      "source": [
        "### Question 4: How can you use decorators to modify class methods?\n",
        "\n",
        "**Answer:**\n",
        "Decorators can also be used with class methods. You apply them to methods within a class just like you would with regular functions. The decorator receives the method as its argument and can modify its behavior."
      ]
    },
    {
      "cell_type": "code",
      "execution_count": 4,
      "metadata": {},
      "outputs": [],
      "source": [
        "# Decorator for class methods\n",
        "def method_decorator(method):\n",
        "    def wrapper(self, *args, **kwargs):\n",
        "        print('Method is being called')\n",
        "        return method(self, *args, **kwargs)\n",
        "    return wrapper\n",
        "\n",
        "class MyClass:\n",
        "    @method_decorator\n",
        "    def my_method(self):\n",
        "        print('Inside the method')\n",
        "\n",
        "obj = MyClass()\n",
        "obj.my_method()\n"
      ]
    },
    {
      "cell_type": "markdown",
      "metadata": {},
      "source": [
        "### Question 5: What are some common use cases for decorators?\n",
        "\n",
        "**Answer:**\n",
        "Common use cases for decorators include:\n",
        "- Logging function calls\n",
        "- Timing function execution\n",
        "- Access control and authentication\n",
        "- Caching or memoization\n",
        "- Modifying input or output of functions\n",
        "- Enriching functions with additional functionality"
      ]
    },
    {
      "cell_type": "code",
      "execution_count": 5,
      "metadata": {},
      "outputs": [],
      "source": [
        "# Example of a logging decorator\n",
        "import logging\n",
        "\n",
        "logging.basicConfig(level=logging.INFO)\n",
        "\n",
        "def log_function_call(func):\n",
        "    def wrapper(*args, **kwargs):\n",
        "        logging.info(f'Calling {func.__name__} with args: {args} and kwargs: {kwargs}')\n",
        "        return func(*args, **kwargs)\n",
        "    return wrapper\n",
        "\n",
        "@log_function_call\n",
        "def add(x, y):\n",
        "    return x + y\n",
        "\n",
        "add(5, 7)\n"
      ]
    }
  ],
  "metadata": {
    "kernelspec": {
      "display_name": "Python 3 (ipykernel)",
      "language": "python",
      "name": "python3"
    },
    "language_info": {
      "codemirror_mode": {
        "name": "ipython",
        "version": 3
      },
      "file_extension": ".py",
      "mimetype": "text/x-python",
      "name": "python",
      "nbconvert_exporter": "python",
      "pygments_lexer": "ipython3",
      "version": "3.11.7"
    }
  },
  "nbformat": 4,
  "nbformat_minor": 5
}
