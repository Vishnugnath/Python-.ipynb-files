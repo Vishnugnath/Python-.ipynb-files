{
  "cells": [
    {
      "cell_type": "markdown",
      "metadata": {},
      "source": [
        "Question 1: What is an iterator in Python?\n",
        "\n",
        "Answer:\n",
        "An iterator is an object that allows traversing through a sequence of values, such as a list or tuple, one element at a time. In Python, an iterator must implement two methods: `__iter__()` and `__next__()` (or `__iter__()` and `__next__()` in Python 2)."
      ]
    },
    {
      "cell_type": "code",
      "execution_count": 1,
      "metadata": {},
      "outputs": [
        {
          "name": "stdout",
          "output_type": "stream",
          "text": [
            "1\n",
            "2\n",
            "3\n",
            "4\n",
            "5\n"
          ]
        }
      ],
      "source": [
        "# Example of an iterator\n",
        "numbers = [1, 2, 3, 4, 5]\n",
        "iterator = iter(numbers)\n",
        "\n",
        "for number in iterator:\n",
        "    print(number)"
      ]
    },
    {
      "cell_type": "markdown",
      "metadata": {},
      "source": [
        "Question 2: How do you create a custom iterator in Python?\n",
        "\n",
        "Answer:\n",
        "You can create a custom iterator by defining a class that implements the `__iter__()` and `__next__()` methods. The `__iter__()` method should return the iterator object itself, and the `__next__()` method should return the next item in the sequence."
      ]
    },
    {
      "cell_type": "code",
      "execution_count": 2,
      "metadata": {},
      "outputs": [
        {
          "name": "stdout",
          "output_type": "stream",
          "text": [
            "1\n",
            "2\n",
            "3\n",
            "4\n",
            "5\n"
          ]
        }
      ],
      "source": [
        "# Example of a custom iterator\n",
        "class CustomIterator:\n",
        "    def __init__(self, start, end):\n",
        "        self.current = start\n",
        "        self.end = end\n",
        "\n",
        "    def __iter__(self):\n",
        "        return self\n",
        "\n",
        "    def __next__(self):\n",
        "        if self.current > self.end:\n",
        "            raise StopIteration\n",
        "        else:\n",
        "            self.current += 1\n",
        "            return self.current - 1\n",
        "\n",
        "iterator = CustomIterator(1, 5)\n",
        "for number in iterator:\n",
        "    print(number)"
      ]
    },
    {
      "cell_type": "markdown",
      "metadata": {},
      "source": [
        "Question 3: What is a generator in Python?\n",
        "\n",
        "Answer:\n",
        "A generator is a special type of iterator that is defined using a function with `yield` statements. Generators allow you to iterate through a sequence of values without storing them all in memory at once."
      ]
    },
    {
      "cell_type": "code",
      "execution_count": 3,
      "metadata": {},
      "outputs": [
        {
          "name": "stdout",
          "output_type": "stream",
          "text": [
            "1\n",
            "2\n",
            "3\n",
            "4\n",
            "5\n"
          ]
        }
      ],
      "source": [
        "# Example of a generator\n",
        "def number_generator(start, end):\n",
        "    while start <= end:\n",
        "        yield start\n",
        "        start += 1\n",
        "\n",
        "gen = number_generator(1, 5)\n",
        "for number in gen:\n",
        "    print(number)"
      ]
    },
    {
      "cell_type": "markdown",
      "metadata": {},
      "source": [
        "Question 4: What are some common iterator methods and functions?\n",
        "\n",
        "Answer:\n",
        "Common iterator methods and functions include `iter()`, `next()`, and `StopIteration` exception handling. The `iter()` function returns an iterator object, and the `next()` function retrieves the next item from the iterator. The `StopIteration` exception is raised when there are no more items to return."
      ]
    },
    {
      "cell_type": "code",
      "execution_count": 4,
      "metadata": {},
      "outputs": [
        {
          "name": "stdout",
          "output_type": "stream",
          "text": [
            "1\n",
            "2\n",
            "3\n",
            "4\n",
            "5\n"
          ]
        }
      ],
      "source": [
        "# Example of iterator methods and functions\n",
        "numbers = [1, 2, 3, 4, 5]\n",
        "iterator = iter(numbers)\n",
        "\n",
        "try:\n",
        "    while True:\n",
        "        print(next(iterator))\n",
        "except StopIteration:\n",
        "    pass"
      ]
    }
  ],
  "metadata": {
    "kernelspec": {
      "display_name": "Python 3 (ipykernel)",
      "language": "python",
      "name": "python3"
    },
    "language_info": {
      "codemirror_mode": {
        "name": "ipython",
        "version": 3
      },
      "file_extension": ".py",
      "mimetype": "text/x-python",
      "name": "python",
      "nbconvert_exporter": "python",
      "pygments_lexer": "ipython3",
      "version": "3.11.7"
    }
  },
  "nbformat": 4,
  "nbformat_minor": 5
}
