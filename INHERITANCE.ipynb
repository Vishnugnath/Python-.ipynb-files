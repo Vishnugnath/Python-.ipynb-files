{
  "cells": [
    {
      "cell_type": "markdown",
      "metadata": {},
      "source": [
        "Question 1: What is inheritance in Python?\n",
        "\n",
        "Answer:\n",
        "Inheritance is a fundamental concept in Object-Oriented Programming (OOP) that allows one class (the child class) to inherit attributes and methods from another class (the parent class). This mechanism promotes code reuse and establishes a hierarchical relationship between classes. In Python, inheritance is implemented by passing the parent class as an argument to the definition of the child class."
      ]
    },
    {
      "cell_type": "code",
      "execution_count": 1,
      "metadata": {},
      "outputs": [],
      "source": [
        "# Example of basic inheritance\n",
        "class Animal:\n",
        "    def __init__(self, name):\n",
        "        self.name = name\n",
        "\n",
        "    def speak(self):\n",
        "        return 'Animal sound'\n",
        "\n",
        "class Dog(Animal):\n",
        "    def speak(self):\n",
        "        return 'Woof!'\n",
        "\n",
        "# Creating an object of the Dog class\n",
        "dog = Dog('Buddy')\n",
        "print(dog.speak())  # Output: Woof!"
      ]
    },
    {
      "cell_type": "markdown",
      "metadata": {},
      "source": [
        "Question 2: What is method overriding in inheritance?\n",
        "\n",
        "Answer:\n",
        "Method overriding occurs when a child class provides a specific implementation for a method that is already defined in its parent class. The method in the child class overrides the method in the parent class, allowing the child class to modify or extend the behavior of the inherited method."
      ]
    },
    {
      "cell_type": "code",
      "execution_count": 2,
      "metadata": {},
      "outputs": [],
      "source": [
        "# Example of method overriding\n",
        "class Vehicle:\n",
        "    def start(self):\n",
        "        return 'Vehicle starting'\n",
        "\n",
        "class Car(Vehicle):\n",
        "    def start(self):\n",
        "        return 'Car starting with ignition'\n",
        "\n",
        "# Creating an object of the Car class\n",
        "car = Car()\n",
        "print(car.start())  # Output: Car starting with ignition"
      ]
    },
    {
      "cell_type": "markdown",
      "metadata": {},
      "source": [
        "Question 3: What is multiple inheritance in Python?\n",
        "\n",
        "Answer:\n",
        "Multiple inheritance is a feature where a class can inherit from more than one parent class. This allows a child class to inherit attributes and methods from multiple parent classes, combining their functionalities. Python supports multiple inheritance, but it requires careful design to avoid complexity and ambiguity."
      ]
    },
    {
      "cell_type": "code",
      "execution_count": 3,
      "metadata": {},
      "outputs": [],
      "source": [
        "# Example of multiple inheritance\n",
        "class Engine:\n",
        "    def start_engine(self):\n",
        "        return 'Engine started'\n",
        "\n",
        "class Wheels:\n",
        "    def move(self):\n",
        "        return 'Wheels moving'\n",
        "\n",
        "class Car(Engine, Wheels):\n",
        "    def drive(self):\n",
        "        return 'Car is driving'\n",
        "\n",
        "# Creating an object of the Car class\n",
        "car = Car()\n",
        "print(car.start_engine())  # Output: Engine started\n",
        "print(car.move())         # Output: Wheels moving\n",
        "print(car.drive())        # Output: Car is driving"
      ]
    },
    {
      "cell_type": "markdown",
      "metadata": {},
      "source": [
        "Question 4: What is the super() function and how is it used?\n",
        "\n",
        "Answer:\n",
        "The `super()` function is used to call methods from a parent class from within a child class. It is often used to ensure that the initialization of the parent class is properly done when the child class is instantiated. `super()` helps to avoid explicit references to the parent class and makes the code more maintainable, especially in complex inheritance hierarchies."
      ]
    },
    {
      "cell_type": "code",
      "execution_count": 4,
      "metadata": {},
      "outputs": [],
      "source": [
        "# Example of using super()\n",
        "class Parent:\n",
        "    def __init__(self, value):\n",
        "        self.value = value\n",
        "\n",
        "class Child(Parent):\n",
        "    def __init__(self, value, extra):\n",
        "        super().__init__(value)\n",
        "        self.extra = extra\n",
        "\n",
        "# Creating an object of the Child class\n",
        "child = Child(10, 20)\n",
        "print(child.value)  # Output: 10\n",
        "print(child.extra)  # Output: 20"
      ]
    },
    {
      "cell_type": "markdown",
      "metadata": {},
      "source": [
        "Question 5: What is the purpose of the `issubclass()` and `isinstance()` functions?\n",
        "\n",
        "Answer:\n",
        "The `issubclass()` function checks if a class is a subclass of another class. The `isinstance()` function checks if an instance is of a particular class or a subclass thereof. These functions are useful for type checking and ensuring that objects adhere to expected types and hierarchies."
      ]
    },
    {
      "cell_type": "code",
      "execution_count": 5,
      "metadata": {},
      "outputs": [],
      "source": [
        "# Example of issubclass() and isinstance()\n",
        "class Animal:\n",
        "    pass\n",
        "\n",
        "class Dog(Animal):\n",
        "    pass\n",
        "\n",
        "dog = Dog()\n",
        "\n",
        "print(issubclass(Dog, Animal))  # Output: True\n",
        "print(isinstance(dog, Dog))     # Output: True\n",
        "print(isinstance(dog, Animal))  # Output: True"
      ]
    }
  ],
  "metadata": {
    "kernelspec": {
      "display_name": "Python 3 (ipykernel)",
      "language": "python",
      "name": "python3"
    },
    "language_info": {
      "codemirror_mode": {
        "name": "ipython",
        "version": 3
      },
      "file_extension": ".py",
      "mimetype": "text/x-python",
      "name": "python",
      "nbconvert_exporter": "python",
      "pygments_lexer": "ipython3",
      "version": "3.11.7"
    }
  },
  "nbformat": 4,
  "nbformat_minor": 5
}
